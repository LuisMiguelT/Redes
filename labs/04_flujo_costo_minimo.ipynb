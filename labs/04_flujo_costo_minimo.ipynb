{
 "cells": [
  {
   "cell_type": "markdown",
   "metadata": {},
   "source": [
    "# Cuaderno 4: Problemas de flujo de costo mínimo\n",
    "\n",
    "$\\newcommand{\\R}{\\mathbb{R}}$\n",
    "Trataremos en este cuaderno el problema de encontrar un flujo de costo mínimo que satisfaga demandas asociadas a los nodos en una red capacitada, mientras respeta las capacidades de los arcos.\n",
    " \n",
    "## Algoritmo del simplex en redes\n",
    "\n",
    "Implementaremos el algoritmo del simplex en redes.\n",
    "\n",
    "Consideremos un grafo dirigido $D=(V, A)$, con capacidades $u \\in \\R^{A}$ y costos unitarios $c \\in \\R^{A}$ sobre los arcos, y demandas $b \\in \\R^{V}$ sobre los nodos. Los datos están dados por medio de las listas `V`, `A` y `b` a indicadas continuación. Los elementos de las lista `A` son tuplas de la forma `(i,j,u_ij,c_ij)`. "
   ]
  },
  {
   "cell_type": "code",
   "execution_count": 3,
   "metadata": {},
   "outputs": [
    {
     "name": "stdout",
     "output_type": "stream",
     "text": [
      "V= range(1, 6)\n",
      "A= [(1, 2, 5, 3), (1, 4, 2, 1), (2, 3, 4, 5), (2, 5, 3, 2), (2, 4, 2, 1), (5, 4, 3, 1), (3, 5, 3, 2)]\n",
      "b= [-6, 4, -3, 3, 2]\n"
     ]
    }
   ],
   "source": [
    "# nodos del grafo\n",
    "V = range(1, 6)\n",
    "# arcos, capacidades y costos (i, j, u_ij, c_ij)\n",
    "A = [(1,2,5,3), (1,4,2,1), (2,3,4,5), (2,5,3,2), (2,4,2,1), (5,4,3,1), (3,5,3,2)]\n",
    "# demandas de los nodos\n",
    "b = [-6, 4, -3, 3, 2]\n",
    "\n",
    "print('V= {}'.format(V))\n",
    "print('A= {}'.format(A))\n",
    "print('b= {}'.format(b))\n"
   ]
  },
  {
   "cell_type": "markdown",
   "metadata": {},
   "source": [
    "Podemos representar gráficamente esta instancia usando las bibliotecas `networkx` y `ipycytoscape`:"
   ]
  },
  {
   "cell_type": "code",
   "execution_count": 4,
   "metadata": {},
   "outputs": [
    {
     "data": {
      "application/vnd.jupyter.widget-view+json": {
       "model_id": "f68ef08808904d52baf0b0b3091ed800",
       "version_major": 2,
       "version_minor": 0
      },
      "text/plain": [
       "CytoscapeWidget(cytoscape_layout={'name': 'cola'}, cytoscape_style=[{'selector': 'node', 'style': {'background…"
      ]
     },
     "execution_count": 4,
     "metadata": {},
     "output_type": "execute_result"
    }
   ],
   "source": [
    "import networkx as nx\n",
    "import ipycytoscape\n",
    "D = nx.DiGraph()\n",
    "D.add_nodes_from(V)\n",
    "for i in V:\n",
    "    D.nodes[i]['demanda']= str(i) + '\\n' + str(b[i-1])\n",
    "for i,j,u,c in A:\n",
    "    D.add_edge(i,j)\n",
    "    D.edges[i,j]['cap_costo'] = u, c\n",
    "# print(D.edges)\n",
    "grafo = ipycytoscape.CytoscapeWidget()\n",
    "grafo.graph.add_graph_from_networkx(D, directed=True)\n",
    "grafo.set_style([{'selector': 'node', 'style' : {'background-color': '#11479e', 'font-family': 'helvetica', 'font-size': '10px', 'color':'white', 'label': 'data(demanda)', 'text-wrap' : 'wrap', 'text-valign' : 'center'}}, \n",
    "                    {'selector': 'node:parent', 'css': {'background-opacity': 0.333}, 'style' : {'font-family': 'helvetica', 'font-size': '10px', 'label': 'data(demanda)'}}, \n",
    "                    {'selector': 'edge', 'style': {'width': 1, 'line-color': '#9dbaea', 'font-size': '10px', 'label': 'data(cap_costo)', 'text-valign' : 'top', 'text-margin-y' : '-10px'}}, \n",
    "                    {'selector': 'edge.directed', 'style': {'curve-style': 'bezier', 'target-arrow-shape': 'triangle', 'target-arrow-color': '#9dbaea'}}])\n",
    "grafo"
   ]
  },
  {
   "cell_type": "markdown",
   "metadata": {},
   "source": [
    "En primer lugar, creamos diccionarios de con arcos entrantes / salientes a cada nodo, así como con los costos y las capacidades de los arcos, y las demandas de los nodos. Como vamos a trabajar con dos tipos de arcos (originales y artificiales) representaremos a cada arco $(i,j)$ por una terna `(i,j,k)` donde el valor de $k$ indica si el arco es original ($k=1$) o artificial ($k=0$)."
   ]
  },
  {
   "cell_type": "code",
   "execution_count": 5,
   "metadata": {
    "scrolled": true
   },
   "outputs": [
    {
     "name": "stdout",
     "output_type": "stream",
     "text": [
      "AA= [(1, 2, 1), (1, 4, 1), (2, 3, 1), (2, 5, 1), (2, 4, 1), (5, 4, 1), (3, 5, 1)]\n",
      "sal= {1: [(1, 2, 1), (1, 4, 1)], 2: [(2, 3, 1), (2, 5, 1), (2, 4, 1)], 3: [(3, 5, 1)], 4: [], 5: [(5, 4, 1)]}\n",
      "ent= {1: [], 2: [(1, 2, 1)], 3: [(2, 3, 1)], 4: [(1, 4, 1), (2, 4, 1), (5, 4, 1)], 5: [(2, 5, 1), (3, 5, 1)]}\n",
      "uu= {(1, 2, 1): 5, (1, 4, 1): 2, (2, 3, 1): 4, (2, 5, 1): 3, (2, 4, 1): 2, (5, 4, 1): 3, (3, 5, 1): 3}\n",
      "cc= {(1, 2, 1): 3, (1, 4, 1): 1, (2, 3, 1): 5, (2, 5, 1): 2, (2, 4, 1): 1, (5, 4, 1): 1, (3, 5, 1): 2}\n",
      "bb= {1: -6, 2: 4, 3: -3, 4: 3, 5: 2}\n"
     ]
    }
   ],
   "source": [
    "# extraer las primeras dos componentes de cada arco en la lista AA\n",
    "AA = [(i, j, 1) for (i,j,uij,cij) in A]\n",
    "# crear diccionarios de arcos salientes / entrantes\n",
    "salientes = {i : [(k,j,l) for (k,j,l) in AA if k==i] for i in V}\n",
    "entrantes = {i : [(k,j,l) for (k,j,l) in AA if j==i] for i in V}\n",
    "\n",
    "# transformar las capacidades en diccionario indexado por los arcos\n",
    "uu = {(i,j,1) : uij for (i,j,uij,cij) in A}\n",
    "# transformar los costos en diccionario indexado por los arcos\n",
    "cc = {(i,j,1) : cij for (i,j,uij,cij) in A}\n",
    "# transformar las demandas en diccionario indexado por los nodos\n",
    "bb ={V[i] : b[i] for i in range(len(V))}\n",
    "\n",
    "print('AA= {}'.format(AA))\n",
    "print('sal= {}'.format(salientes))\n",
    "print('ent= {}'.format(entrantes))\n",
    "print('uu= {}'.format(uu))\n",
    "print('cc= {}'.format(cc))\n",
    "print('bb= {}'.format(bb))\n"
   ]
  },
  {
   "cell_type": "markdown",
   "metadata": {},
   "source": [
    "Elegimos $r=1$. Construimos el primer árbol de la red con los arcos $(r,i)$, para todo $i \\in V \\setminus \\{r\\}$ con $b_i \\geq 0$, y los arcos $(i,r)$, para todo $i \\in V \\setminus \\{r\\}$ con $b_i < 0$. De ser necesario, agregamos a la red nuevos arcos con costo $M$ y capacidad $\\left|b_i\\right|$, donde $M$ es una constante suficientemente grande. En nuestro caso, elegimos $M$ igual a la suma de los productos entre los costos y las capacidades sobre todos los arcos de $A$."
   ]
  },
  {
   "cell_type": "code",
   "execution_count": 6,
   "metadata": {},
   "outputs": [
    {
     "name": "stdout",
     "output_type": "stream",
     "text": [
      "AA= [(1, 2, 1), (1, 4, 1), (2, 3, 1), (2, 5, 1), (2, 4, 1), (5, 4, 1), (3, 5, 1), (1, 5, 0), (1, 4, 0), (3, 1, 0)]\n",
      "sal= {1: [(1, 2, 1), (1, 4, 1), (1, 5, 0), (1, 4, 0)], 2: [(2, 3, 1), (2, 5, 1), (2, 4, 1)], 3: [(3, 5, 1), (3, 1, 0)], 4: [], 5: [(5, 4, 1)]}\n",
      "ent= {1: [(3, 1, 0)], 2: [(1, 2, 1)], 3: [(2, 3, 1)], 4: [(1, 4, 1), (2, 4, 1), (5, 4, 1), (1, 4, 0)], 5: [(2, 5, 1), (3, 5, 1), (1, 5, 0)]}\n",
      "uu= {(1, 2, 1): 5, (1, 4, 1): 2, (2, 3, 1): 4, (2, 5, 1): 3, (2, 4, 1): 2, (5, 4, 1): 3, (3, 5, 1): 3, (1, 5, 0): 2, (1, 4, 0): 3, (3, 1, 0): 3}\n",
      "cc= {(1, 2, 1): 3, (1, 4, 1): 1, (2, 3, 1): 5, (2, 5, 1): 2, (2, 4, 1): 1, (5, 4, 1): 1, (3, 5, 1): 2, (1, 5, 0): 54, (1, 4, 0): 54, (3, 1, 0): 54}\n",
      "bb= {1: -6, 2: 4, 3: -3, 4: 3, 5: 2}\n",
      "T= [(1, 5, 0), (1, 4, 0), (3, 1, 0), (1, 2, 1)]\n",
      "M= 54\n"
     ]
    }
   ],
   "source": [
    "# elegimos r\n",
    "r = 1\n",
    "# elegimos M como la suma de costos*capacidades de todos los arcos\n",
    "M = sum([cc[i,j,k]*uu[i,j,k] for (i,j,k) in AA])\n",
    "\n",
    "# crear lista de arcos faltantes la forma (r,i) con bb[i]>=0\n",
    "L1 = [(r,i,0) for i in V if i!=r and bb[i]>=0 and (r,i,1) not in salientes[r]]\n",
    "# agregar a la lista arcos (r,i) con u[r,i]<bb[i]\n",
    "L1+= [(r,i,0) for i in V if i!=r and bb[i]>=0 and (r,i,1) in salientes[r] and uu[r,i,1]<bb[i]]\n",
    "# agregar arcos artificiales de la forma (r,i,0) a la red\n",
    "# la tercera componente sirve para identificar que se trata de un arco artificial\n",
    "for (r,i,k) in L1:\n",
    "    AA.append((r,i,k))\n",
    "    salientes[r].append((r,i,k))\n",
    "    entrantes[i].append((r,i,k))\n",
    "    uu[(r,i,k)]= bb[i]\n",
    "    cc[(r,i,k)]= M\n",
    "\n",
    "# crear lista de arcos faltantes la forma (i,r) con bb[i]<0\n",
    "L2 = [(i,r,0) for i in V if i!=r and bb[i]<0 and (i,r,1) not in entrantes[r]]\n",
    "# agregar a la lista arcos (i,r) con u[i,r]<-bb[i]\n",
    "L2+= [(i,r,0) for i in V if i!=r and bb[i]<0 and (i,r,1) in entrantes[r] and uu[i,r,1]<-bb[i]]\n",
    "# agregar arcos faltantes de la forma (i,r) a la red\n",
    "# la tercera componente sirve para identificar que se trata de un arco artificial\n",
    "for (i,r,k) in L2:\n",
    "    AA.append((i,r,k))\n",
    "    entrantes[r].append((i,r,k))\n",
    "    salientes[i].append((i,r,k))\n",
    "    uu[(i,r,k)]= -bb[i]\n",
    "    cc[(i,r,k)]= M\n",
    "    \n",
    "# lista con los arcos del arbol inicial\n",
    "# son todos los arcos artificiales añadidos...\n",
    "T = L1 + L2\n",
    "# ... más los arcos originales que sirvan para enviar el flujo inicial\n",
    "T+= [(r,i,1) for i in V if i!=r and bb[i]>=0 and (r,i,1) in salientes[r] and uu[r,i,1]>=bb[i]]\n",
    "T+= [(i,r,1) for i in V if i!=r and bb[i]<0 and (i,r,1) in entrantes[r] and uu[i,r,1]>=-bb[i]]\n",
    "\n",
    "print('AA= {}'.format(AA))\n",
    "print('sal= {}'.format(salientes))\n",
    "print('ent= {}'.format(entrantes))\n",
    "print('uu= {}'.format(uu))\n",
    "print('cc= {}'.format(cc))\n",
    "print('bb= {}'.format(bb))\n",
    "print('T= {}'.format(T))\n",
    "print('M= {}'.format(M))\n"
   ]
  },
  {
   "cell_type": "markdown",
   "metadata": {},
   "source": [
    "Nuevamente, empleamos `networkx` y `ipycytoscape` para representar al grafo con los arcos artificiales (en rojo) y el árbol inicial (en rojo y azul oscuro):"
   ]
  },
  {
   "cell_type": "code",
   "execution_count": 7,
   "metadata": {},
   "outputs": [
    {
     "data": {
      "application/vnd.jupyter.widget-view+json": {
       "model_id": "76b1deff11dd41a6878bc116cba7925e",
       "version_major": 2,
       "version_minor": 0
      },
      "text/plain": [
       "CytoscapeWidget(cytoscape_layout={'name': 'cola'}, cytoscape_style=[{'selector': 'node', 'style': {'background…"
      ]
     },
     "execution_count": 7,
     "metadata": {},
     "output_type": "execute_result"
    }
   ],
   "source": [
    "import networkx as nx\n",
    "import ipycytoscape\n",
    "D = nx.MultiDiGraph()\n",
    "D.add_nodes_from(V)\n",
    "for i in V:\n",
    "    D.nodes[i]['demanda']= str(i) + '\\n' + str(bb[i])\n",
    "for i,j,k in AA:\n",
    "    D.add_edge(i,j,key=(i,j,k))\n",
    "    D.edges[i,j,(i,j,k)]['cap_costo'] = uu[i,j,k], cc[i,j,k]\n",
    "    if k==0:\n",
    "        D.edges[i,j,(i,j,k)]['color'] = '#ff0040'\n",
    "    elif (i,j,k) in T:\n",
    "        D.edges[i,j,(i,j,k)]['color'] = '#0404b4'\n",
    "    else:\n",
    "        D.edges[i,j,(i,j,k)]['color'] = '#bdbdbd'\n",
    "# print(D.edges)\n",
    "grafo = ipycytoscape.CytoscapeWidget()\n",
    "grafo.graph.add_graph_from_networkx(D, directed=True)\n",
    "grafo.set_style([{'selector': 'node', 'style' : {'background-color': '#11479e', 'font-family': 'helvetica', 'font-size': '10px', 'color':'white', 'label': 'data(demanda)', 'text-wrap' : 'wrap', 'text-valign' : 'center'}}, \n",
    "                    {'selector': 'node:parent', 'css': {'background-opacity': 0.333}, 'style' : {'font-family': 'helvetica', 'font-size': '10px', 'label': 'data(demanda)'}}, \n",
    "                    {'selector': 'edge', 'style': {'width': 1, 'line-color': 'data(color)', 'font-size': '10px', 'label': 'data(cap_costo)', 'text-valign' : 'top', 'text-margin-y' : '-10px'}}, \n",
    "                    {'selector': 'edge.directed', 'style': {'curve-style': 'bezier', 'target-arrow-shape': 'triangle', 'target-arrow-color': 'data(color)'}}])\n",
    "grafo"
   ]
  },
  {
   "cell_type": "markdown",
   "metadata": {},
   "source": [
    "Construimos un flujo factible de árbol inicial de la forma $x_{ri}=b_i$ para todo $(r,i) \\in T$, $x_{ir}=-b_i$ para todo $(i,r) \\in T$ y $x_{ij}=0$ si $(i,j) \\not\\in T$. Para poder utilizar el operador `+` de concatenación, construimos primero una lista `Lx` de elementos $(i,j,x_{ij})$ y transformamos luego esta lista en un diccionario `x` con los valores del flujo indexados por los arcos. La partición asociada a esta solución es $(L, U, T)$, con $L:= A \\setminus T$ y $U:= \\emptyset$."
   ]
  },
  {
   "cell_type": "code",
   "execution_count": 8,
   "metadata": {},
   "outputs": [
    {
     "name": "stdout",
     "output_type": "stream",
     "text": [
      "x= {(1, 5, 0): 2, (1, 4, 0): 3, (1, 2, 1): 4, (3, 1, 0): 3, (1, 4, 1): 0, (2, 3, 1): 0, (2, 5, 1): 0, (2, 4, 1): 0, (5, 4, 1): 0, (3, 5, 1): 0}\n",
      "L= [(1, 4, 1), (2, 3, 1), (2, 5, 1), (2, 4, 1), (5, 4, 1), (3, 5, 1)]\n",
      "U= []\n",
      "T= [(1, 5, 0), (1, 4, 0), (3, 1, 0), (1, 2, 1)]\n"
     ]
    }
   ],
   "source": [
    "# construir partición inicial\n",
    "# todos los arcos fuera de T están en L\n",
    "L = [(i,j,k) for (i,j,k) in AA if (i,j,k) not in T]\n",
    "U = []\n",
    "\n",
    "# construir flujo inicial como lista\n",
    "# flujo sobre arcos de T que salen de r\n",
    "x = {(i,j,k) : bb[j] for (i,j,k) in T if i==r}\n",
    "# flujo sobre arcos de T que llegan a r\n",
    "x.update({(i,j,k) : -bb[i] for (i,j,k) in T if j==r})\n",
    "# flujo sobre arcos en L\n",
    "x.update({(i,j,k) : 0 for (i,j,k) in L})\n",
    "\n",
    "print('x= {}'.format(x))\n",
    "print('L= {}'.format(L))\n",
    "print('U= {}'.format(U))\n",
    "print('T= {}'.format(T))\n",
    "\n"
   ]
  },
  {
   "cell_type": "markdown",
   "metadata": {},
   "source": [
    "Empleamos un algoritmo de marcaje BFS para calcular los valores de $y_i$, para $i \\in V$, como los costos de los senderos desde $r$ en el árbol $T$. Simultáneamente, construimos un diccionario `p` que almacena, para cada nodo $i \\in V$, el nodo antecesor en el sendero único desde $r$ hasta $i$. "
   ]
  },
  {
   "cell_type": "code",
   "execution_count": 9,
   "metadata": {},
   "outputs": [
    {
     "name": "stdout",
     "output_type": "stream",
     "text": [
      "y = {1: 0, 2: None, 3: None, 4: None, 5: None}\n",
      "p = {1: None, 2: None, 3: None, 4: None, 5: None}\n",
      "i = 1\n",
      "Q = [5, 4, 2, 3]\n",
      "y = {1: 0, 2: 3, 3: -54, 4: 54, 5: 54}\n",
      "p = {1: None, 2: 1, 3: 1, 4: 1, 5: 1}\n",
      "i = 5\n",
      "Q = [4, 2, 3]\n",
      "y = {1: 0, 2: 3, 3: -54, 4: 54, 5: 54}\n",
      "p = {1: None, 2: 1, 3: 1, 4: 1, 5: 1}\n",
      "i = 4\n",
      "Q = [2, 3]\n",
      "y = {1: 0, 2: 3, 3: -54, 4: 54, 5: 54}\n",
      "p = {1: None, 2: 1, 3: 1, 4: 1, 5: 1}\n",
      "i = 2\n",
      "Q = [3]\n",
      "y = {1: 0, 2: 3, 3: -54, 4: 54, 5: 54}\n",
      "p = {1: None, 2: 1, 3: 1, 4: 1, 5: 1}\n",
      "i = 3\n",
      "Q = []\n",
      "y = {1: 0, 2: 3, 3: -54, 4: 54, 5: 54}\n",
      "p = {1: None, 2: 1, 3: 1, 4: 1, 5: 1}\n"
     ]
    }
   ],
   "source": [
    "# construimos diccionarios de arcos entrantes y salientes en T\n",
    "Tsal = {i : [(k,j,l) for (k,j,l) in T if k==i] for i in V}\n",
    "Tent = {i : [(k,j,l) for (k,j,l) in T if j==i] for i in V}\n",
    "# inicializamos y_r = 0 y y_i=None para los demás nodos\n",
    "y = {i : None for i in V}\n",
    "y[r] = 0\n",
    "# inicializamos p_i=None para todos los nodos\n",
    "p = {i : None for i in V}\n",
    "print('y = {}'.format(y))\n",
    "print('p = {}'.format(p))\n",
    "# colocar r en la cola de nodos por procesar\n",
    "Q = [r]\n",
    "# continuar mientras Q no esté vacía\n",
    "while Q!=[]:\n",
    "    # retirar primer elemento de Q\n",
    "    i = Q.pop(0)\n",
    "    print('i = {}'.format(i))\n",
    "    # examinar arcos salientes de i\n",
    "    for (i,j,k) in Tsal[i]:\n",
    "        # marcar el otro extremo, si no está marcado, y ponerlo en Q\n",
    "        if y[j] == None:\n",
    "            y[j] = y[i] + cc[i,j,k]\n",
    "            p[j] = i\n",
    "            Q.append(j)\n",
    "    # examinar arcos entrantes a i\n",
    "    for (j,i,k) in Tent[i]:\n",
    "        # marcar el otro extremo, si no está marcado, y ponerlo en Q\n",
    "        if y[j] == None:\n",
    "            y[j] = y[i] - cc[j,i,k]\n",
    "            p[j]= i\n",
    "            Q.append(j)\n",
    "    print('Q = {}'.format(Q))\n",
    "    print('y = {}'.format(y))\n",
    "    print('p = {}'.format(p))\n",
    "    \n",
    "    "
   ]
  },
  {
   "cell_type": "code",
   "execution_count": 12,
   "metadata": {},
   "outputs": [
    {
     "data": {
      "application/vnd.jupyter.widget-view+json": {
       "model_id": "ec4a4ef84f7540bfa8e11932a919ace8",
       "version_major": 2,
       "version_minor": 0
      },
      "text/plain": [
       "CytoscapeWidget(cytoscape_layout={'name': 'cola'}, cytoscape_style=[{'selector': 'node', 'style': {'background…"
      ]
     },
     "execution_count": 12,
     "metadata": {},
     "output_type": "execute_result"
    }
   ],
   "source": [
    "D = nx.MultiDiGraph()\n",
    "D.add_nodes_from(V)\n",
    "for i in V:\n",
    "    D.nodes[i]['demanda']= str(i) + '\\n' + '{}/{}/{}'.format(bb[i],y[i],p[i])\n",
    "for i,j,k in AA:\n",
    "    D.add_edge(i,j,key=(i,j,k))\n",
    "    D.edges[i,j,(i,j,k)]['cap_costo'] = x[i,j,k], uu[i,j,k], cc[i,j,k]\n",
    "    if (i,j,k) in T:\n",
    "        if k==0:\n",
    "            D.edges[i,j,(i,j,k)]['color'] = '#ff0040'\n",
    "        else:\n",
    "            D.edges[i,j,(i,j,k)]['color'] = '#0404b4'\n",
    "    else:\n",
    "        D.edges[i,j,(i,j,k)]['color'] = '#bdbdbd'\n",
    "# print(D.edges)\n",
    "grafo = ipycytoscape.CytoscapeWidget()\n",
    "grafo.graph.add_graph_from_networkx(D, directed=True)\n",
    "grafo.set_style([{'selector': 'node', 'style' : {'background-color': '#11479e', 'font-family': 'helvetica', 'font-size': '6px', 'color':'white', 'label': 'data(demanda)', 'text-wrap' : 'wrap', 'text-valign' : 'center'}}, \n",
    "                    {'selector': 'node:parent', 'css': {'background-opacity': 0.333}, 'style' : {'font-family': 'helvetica', 'font-size': '10px', 'label': 'data(demanda)'}}, \n",
    "                    {'selector': 'edge', 'style': {'width': 1, 'line-color': 'data(color)', 'font-size': '10px', 'label': 'data(cap_costo)', 'text-valign' : 'top', 'text-margin-y' : '-10px'}}, \n",
    "                    {'selector': 'edge.directed', 'style': {'curve-style': 'bezier', 'target-arrow-shape': 'triangle', 'target-arrow-color': 'data(color)'}}])\n",
    "grafo"
   ]
  },
  {
   "cell_type": "markdown",
   "metadata": {},
   "source": [
    "Para poder determinar un ciclo $x$-aumentante, necesitaremos calcular la capacidad del sendero único desde el nodo `i` hasta el nodo `j` sobre el árbol. Implementamos para ello la función `reconstruir_sendero`. Esta función retorna la capacidad del sendero y una lista con sus arcos. "
   ]
  },
  {
   "cell_type": "code",
   "execution_count": 13,
   "metadata": {},
   "outputs": [
    {
     "name": "stdout",
     "output_type": "stream",
     "text": [
      "Sendero de 2 a 4: [(1, 2, 1), (1, 4, 0)]\n",
      "Capacidad: 0\n",
      "Sendero de 4 a 2: [(1, 4, 0), (1, 2, 1)]\n",
      "Capacidad: 1\n",
      "Sendero de 3 a 4: [(3, 1, 0), (1, 4, 0)]\n",
      "Capacidad: 0\n",
      "Sendero de 2 a 1: [(1, 2, 1)]\n",
      "Capacidad: 4\n",
      "Sendero de 5 a 3: [(1, 5, 0), (3, 1, 0)]\n",
      "Capacidad: 2\n"
     ]
    }
   ],
   "source": [
    "def reconstruir_sendero(i, j, p, uu, x, T):\n",
    "    # lista de nodos del sendero de i hasta r\n",
    "    Pi, i2 = [i], i\n",
    "    while p[i2]!= None:\n",
    "        # mientras i2!=r, agregar el predecesor de i2 en Pi y actualizar i2\n",
    "        Pi.append(p[i2])\n",
    "        i2 = p[i2]\n",
    "    # print(\"Pi : {}\".format(Pi))\n",
    "    # recorremos los nodos del sendero j hasta r, parando antes del primer nodo común con Pi\n",
    "    Pj, j2 = [], j\n",
    "    # si j no pertenece a Pi, reconstruir el sendero desde j hasta r\n",
    "    if j2 not in Pi:\n",
    "        while p[j2]!= None:\n",
    "            # terminar al llegar a un nodo de Pi\n",
    "            if j2 in Pi:\n",
    "                break\n",
    "            # insertar al inicio, para invertir el orden\n",
    "            Pj.insert(0, j2)\n",
    "            j2 = p[j2]\n",
    "    # encontrar índice del primer nodo común de Pi y Pj\n",
    "    ind = Pi.index(j2)\n",
    "    # nodos del sendero de i a j:\n",
    "    Pi= Pi[0:ind+1] + Pj\n",
    "    # en este punto, Pi contiene los nodos del sendero de i hasta j\n",
    "    # print(\"Pi : {}\".format(Pi))\n",
    "    \n",
    "    # Construir lista P con arcos del sendero de i a j:\n",
    "    P = []\n",
    "    adelante = {} # marca si los arcos son \"hacia adelante\"\n",
    "    for k in range(len(Pi)-1):\n",
    "        if (Pi[k], Pi[k+1], 1) in T:\n",
    "            P.append((Pi[k], Pi[k+1], 1))\n",
    "            adelante[Pi[k], Pi[k+1], 1]= True\n",
    "        elif (Pi[k], Pi[k+1], 0) in T:\n",
    "            P.append((Pi[k], Pi[k+1], 0))\n",
    "            adelante[Pi[k], Pi[k+1], 0]= True\n",
    "        elif (Pi[k+1], Pi[k], 1) in T:\n",
    "            P.append((Pi[k+1], Pi[k], 1))\n",
    "            adelante[Pi[k+1], Pi[k], 1]= False\n",
    "        else:\n",
    "            P.append((Pi[k+1], Pi[k], 0))\n",
    "            adelante[Pi[k+1], Pi[k], 0]= False\n",
    "    # capacidad del sendero\n",
    "    eps = min([uu[i,j,k] - x[i,j,k] if adelante[i,j,k] \n",
    "               else x[i,j,k] for (i,j,k) in P])\n",
    "    return eps, P\n",
    "\n",
    "eps, P = reconstruir_sendero(2, 4, p, uu, x, T)\n",
    "print(\"Sendero de 2 a 4: {}\".format(P))\n",
    "print(\"Capacidad: {}\".format(eps))\n",
    "\n",
    "eps, P = reconstruir_sendero(4, 2, p, uu, x, T)\n",
    "print(\"Sendero de 4 a 2: {}\".format(P))\n",
    "print(\"Capacidad: {}\".format(eps))\n",
    "\n",
    "eps, P = reconstruir_sendero(3, 4, p, uu, x, T)\n",
    "print(\"Sendero de 3 a 4: {}\".format(P))\n",
    "print(\"Capacidad: {}\".format(eps))\n",
    "\n",
    "eps, P = reconstruir_sendero(2, 1, p, uu, x, T)\n",
    "print(\"Sendero de 2 a 1: {}\".format(P))\n",
    "print(\"Capacidad: {}\".format(eps))\n",
    "\n",
    "eps, P = reconstruir_sendero(5, 3, p, uu, x, T)\n",
    "print(\"Sendero de 5 a 3: {}\".format(P))\n",
    "print(\"Capacidad: {}\".format(eps))\n"
   ]
  },
  {
   "cell_type": "markdown",
   "metadata": {},
   "source": [
    "En cada iteración del algoritmo del simplex en redes, debemos determinar, si existe, una arista de `L` con costo reducido negativo, o una arista de `U` con costo reducido positivo. "
   ]
  },
  {
   "cell_type": "code",
   "execution_count": 14,
   "metadata": {},
   "outputs": [
    {
     "name": "stdout",
     "output_type": "stream",
     "text": [
      "Lneg = [(1, 4, 1), (2, 5, 1), (2, 4, 1), (3, 5, 1)]\n",
      "Upos = []\n"
     ]
    }
   ],
   "source": [
    "# aristas de L con costo reducido negativo\n",
    "Lneg = [(i,j,k) for (i,j,k) in L if cc[i,j,k]+y[i]-y[j]<0]\n",
    "# aristas de U con costo reducido positivo\n",
    "Upos = [(i,j,k) for (i,j,k) in U if cc[i,j,k]+y[i]-y[j]>0]\n",
    "\n",
    "print('Lneg = {}'.format(Lneg))\n",
    "print('Upos = {}'.format(Upos))\n"
   ]
  },
  {
   "cell_type": "markdown",
   "metadata": {},
   "source": [
    "Empleando la función `reconstruir_sendero` es ahora posible construir el ciclo $x$-aumentante asociado a un arco de `Lneg` o de `Upos`."
   ]
  },
  {
   "cell_type": "code",
   "execution_count": 15,
   "metadata": {},
   "outputs": [
    {
     "name": "stdout",
     "output_type": "stream",
     "text": [
      "Ciclo asociado a (1, 4, 1): [(1, 4, 1), (1, 4, 0)]\n",
      "Capacidad: 2\n"
     ]
    }
   ],
   "source": [
    "# construir el ciclo asociado al primer arco de Lneg\n",
    "(i, j, k) = Lneg.pop(0)\n",
    "eps, P = reconstruir_sendero(j, i, p, uu, x, T)\n",
    "# capacidad disponible en (i,j) es uu[i,j], porque x[i,j]==0\n",
    "eps = min(eps, uu[i,j,k])\n",
    "P.insert(0, (i,j,k))\n",
    "\n",
    "print(\"Ciclo asociado a {}: {}\".format((i,j,k), P))\n",
    "print(\"Capacidad: {}\".format(eps))"
   ]
  },
  {
   "cell_type": "markdown",
   "metadata": {},
   "source": [
    "Con esta idea, implementamos la función `reconstruir_ciclo`, que retorna la lista de arcos del ciclo asociado a un arco de `L` o de `U`, conjuntamente con su capacidad. El parámetro `enL` toma el valor de `True` si el arco `(i,j)` pertenece a `L`, y `False` si se trata de un arco de `U`."
   ]
  },
  {
   "cell_type": "code",
   "execution_count": 16,
   "metadata": {},
   "outputs": [
    {
     "name": "stdout",
     "output_type": "stream",
     "text": [
      "Ciclo asociado a (2, 5, 1): [(2, 5, 1), (1, 5, 0), (1, 2, 1)]\n",
      "Capacidad: 1\n"
     ]
    }
   ],
   "source": [
    "def reconstruir_ciclo(i, j, k, p, uu, x, T, enL):\n",
    "    # para arcos en L:\n",
    "    if enL:\n",
    "        # reconstruir el sendero de j a i\n",
    "        eps, P = reconstruir_sendero(j, i, p, uu, x, T)\n",
    "        # agregar arco (i,j) y de ser necesario actualizar eps\n",
    "        eps = min(eps, uu[i,j,k])\n",
    "        P.insert(0, (i,j,k))\n",
    "    else:\n",
    "        # reconstruir el sendero de i a j\n",
    "        eps, P = reconstruir_sendero(i, j, p, uu, x, T)\n",
    "        # agregar arco (i,j) y de ser necesario actualizar eps\n",
    "        eps = min(eps, x[i,j,k])\n",
    "        P.insert(0, (i,j,k))\n",
    "    return eps, P    \n",
    "    \n",
    "(i, j, k) = Lneg.pop(0)\n",
    "eps, P = reconstruir_ciclo(i, j, k, p, uu, x, T, True)\n",
    "print(\"Ciclo asociado a {}: {}\".format((i,j,k), P))\n",
    "print(\"Capacidad: {}\".format(eps))   \n"
   ]
  },
  {
   "cell_type": "markdown",
   "metadata": {},
   "source": [
    "Finalmente, implementemos una función `transformar_flujo` que transforma el flujo utilizando un ciclo $x$-aumentante. La función retorna una lista `U2` con los arcos hacia adelante del ciclo que se saturaron durante la transformación, y una lista `L2` con los arcos en reversa que se vaciaron durante la transformación."
   ]
  },
  {
   "cell_type": "code",
   "execution_count": 17,
   "metadata": {},
   "outputs": [
    {
     "name": "stdout",
     "output_type": "stream",
     "text": [
      "Flujo inicial: {(1, 5, 0): 2, (1, 4, 0): 3, (1, 2, 1): 4, (3, 1, 0): 3, (1, 4, 1): 0, (2, 3, 1): 0, (2, 5, 1): 0, (2, 4, 1): 0, (5, 4, 1): 0, (3, 5, 1): 0}\n",
      "Ciclo asociado a (2, 4, 1): [(2, 4, 1), (1, 4, 0), (1, 2, 1)]\n",
      "Capacidad: 1\n",
      "Nuevo flujo: {(1, 5, 0): 2, (1, 4, 0): 2, (1, 2, 1): 5, (3, 1, 0): 3, (1, 4, 1): 0, (2, 3, 1): 0, (2, 5, 1): 0, (2, 4, 1): 1, (5, 4, 1): 0, (3, 5, 1): 0}\n",
      "Candidatos a salir de T = [(1, 2, 1)]\n"
     ]
    }
   ],
   "source": [
    "def transformar_flujo(C, eps, i, x, uu):\n",
    "    # lista con los arcos que pueden salir del árbol\n",
    "    salir = []\n",
    "    for (j,k,l) in C:\n",
    "        # si es arco hacia adelante:\n",
    "        if i==j:\n",
    "            # aumentar flujo\n",
    "            x[j,k,l]+= eps\n",
    "            # si el arco se satura, agregarlo a U2\n",
    "            if x[j,k,l]==uu[j,k,l]:\n",
    "                salir.append((j,k,l))\n",
    "            # actualizar i\n",
    "            i = k\n",
    "        # si es arco en reversa:\n",
    "        else:\n",
    "            # disminuir flujo\n",
    "            x[j,k,l]-= eps\n",
    "            # si el arco se vacía, agregarlo a L2\n",
    "            if x[j,k,l]==0:\n",
    "                salir.append((j,k,l))\n",
    "            # actualizar i\n",
    "            i = j\n",
    "    return salir\n",
    "\n",
    "print(\"Flujo inicial: {}\".format(x))\n",
    "(i, j, k) = Lneg.pop(0)\n",
    "eps, C = reconstruir_ciclo(i, j, k, p, uu, x, T, True)\n",
    "print(\"Ciclo asociado a {}: {}\".format((i,j,k), C))\n",
    "print(\"Capacidad: {}\".format(eps))   \n",
    "salir = transformar_flujo(C, eps, i, x, uu)\n",
    "print(\"Nuevo flujo: {}\".format(x))\n",
    "print(\"Candidatos a salir de T = {}\".format(salir))\n",
    "            \n"
   ]
  },
  {
   "cell_type": "markdown",
   "metadata": {},
   "source": [
    "Luego de actualizar el flujo, es necesario actualizar la partición. El primer arco de la lista `salir` que sea distinto de `(i,j,k)` debe salir de `T` e ingresar a `L` o `U`, (según corresponda), y el arco `(i,j,k)` debe ingresar a `T` y salir de `L` o `U`, según corresponda. Si el único arco en la lista `salir` es `(i,j,k)`, entonces este arco debe pasar de `L` a `U`, o de `U` a `L`, según corresponda. En este último caso, el árbol `T` permanece inalterado.\n",
    "\n",
    "Implementamos la función `actualizar_particion` para ejecutar esta tarea. El parámetro `enL` vale `True` si el arco `(i,j,k)` pertenece a `L` y `False` si pertenece a `U`. "
   ]
  },
  {
   "cell_type": "code",
   "execution_count": 18,
   "metadata": {},
   "outputs": [
    {
     "name": "stdout",
     "output_type": "stream",
     "text": [
      "(i,j,k) = (2, 4, 1)\n",
      "salir = [(1, 2, 1)]\n",
      "T = [(1, 5, 0), (1, 4, 0), (3, 1, 0), (1, 2, 1)]\n",
      "L = [(1, 4, 1), (2, 3, 1), (2, 5, 1), (2, 4, 1), (5, 4, 1), (3, 5, 1)]\n",
      "U = []\n",
      "---\n",
      "T = [(1, 5, 0), (1, 4, 0), (3, 1, 0), (2, 4, 1)]\n",
      "L = [(1, 4, 1), (2, 3, 1), (2, 5, 1), (5, 4, 1), (3, 5, 1)]\n",
      "U = [(1, 2, 1)]\n"
     ]
    }
   ],
   "source": [
    "def actualizar_particion(T, L, U, salir, i, j, k, x, enL):\n",
    "    # remover (i,j,k) de L o U, según corresponda\n",
    "    if enL:\n",
    "        L.remove((i,j,k))\n",
    "    else:\n",
    "        U.remove((i,j,k))\n",
    "    # si (i,j,k) es el único arco en la lista salir, agregarlo a L o U, según corresponda        \n",
    "    if len(salir)==1 and (i,j,k) in salir:\n",
    "        if enL:\n",
    "            U.append((i,j,k))\n",
    "        else:\n",
    "            L.append((i,j,k))\n",
    "    else:\n",
    "        # caso contrario, mover (i,j,k) hacia T\n",
    "        T.append((i,j,k))\n",
    "        # determinar arco saliente    \n",
    "        (h,l,k2) = [(h,l,k2) for (h,l,k2) in salir if (h,l,k2)!=(i,j,k)].pop(0)\n",
    "        # mover (h,l,k2) desde T a L o U, según corresponda\n",
    "        T.remove((h,l,k2))\n",
    "        if x[h,l,k2]==0:\n",
    "            L.append((h,l,k2))\n",
    "        else:\n",
    "            U.append((h,l,k2))\n",
    "\n",
    "\n",
    "print(\"(i,j,k) = {}\".format((i,j,k)))\n",
    "print(\"salir = {}\".format(salir))\n",
    "print(\"T = {}\".format(T))\n",
    "print(\"L = {}\".format(L))\n",
    "print(\"U = {}\".format(U))\n",
    "\n",
    "actualizar_particion(T, L, U, salir, i, j, k, x, True)\n",
    "print(\"---\")\n",
    "\n",
    "print(\"T = {}\".format(T))\n",
    "print(\"L = {}\".format(L))\n",
    "print(\"U = {}\".format(U))\n"
   ]
  },
  {
   "cell_type": "markdown",
   "metadata": {},
   "source": [
    "Para terminar la primera iteración del lazo principal del algoritmo del simplex, debemos actualizar los valores de `y` y `p`. Implementamos para ello la función `actualizar_y` basada en la búsqueda BFS presentada arriba:"
   ]
  },
  {
   "cell_type": "code",
   "execution_count": 19,
   "metadata": {},
   "outputs": [
    {
     "name": "stdout",
     "output_type": "stream",
     "text": [
      "T= [(1, 5, 0), (1, 4, 0), (3, 1, 0), (2, 4, 1)]\n",
      "y= {1: 0, 2: 53, 3: -54, 4: 54, 5: 54}\n",
      "p= {1: None, 2: 4, 3: 1, 4: 1, 5: 1}\n"
     ]
    }
   ],
   "source": [
    "def actualizar_y(T, V, r, cc):\n",
    "    # construimos diccionarios de arcos entrantes y salientes en T\n",
    "    Tsal = {i : [(k,j,l) for (k,j,l) in T if k==i] for i in V}\n",
    "    Tent = {i : [(k,j,l) for (k,j,l) in T if j==i] for i in V}\n",
    "    # inicializamos y_r = 0 y y_i=None para los demás nodos\n",
    "    y = {i : None for i in V}\n",
    "    y[r] = 0\n",
    "    # inicializamos p_i=None para todos los nodos\n",
    "    p = {i : None for i in V}\n",
    "    # colocar r en la cola de nodos por procesar\n",
    "    Q = [r]\n",
    "    # continuar mientras Q no esté vacía\n",
    "    while Q!=[]:\n",
    "        # retirar primer elemento de Q\n",
    "        i = Q.pop(0)\n",
    "        # examinar arcos salientes de i\n",
    "        for (i,j,k) in Tsal[i]:\n",
    "            # marcar el otro extremo, si no está marcado, y ponerlo en Q\n",
    "            if y[j] == None:\n",
    "                y[j] = y[i] + cc[i,j,k]\n",
    "                p[j] = i\n",
    "                Q.append(j)\n",
    "        # examinar arcos entrantes a i\n",
    "        for (j,i,k) in Tent[i]:\n",
    "            # marcar el otro extremo, si no está marcado, y ponerlo en Q\n",
    "            if y[j] == None:\n",
    "                y[j] = y[i] - cc[j,i,k]\n",
    "                p[j]= i\n",
    "                Q.append(j)\n",
    "    return y, p\n",
    "\n",
    "\n",
    "print(\"T= {}\".format(T))\n",
    "y, p = actualizar_y(T, V, r, cc)\n",
    "print(\"y= {}\".format(y))\n",
    "print(\"p= {}\".format(p))\n",
    "                \n",
    "\n"
   ]
  },
  {
   "cell_type": "markdown",
   "metadata": {},
   "source": [
    "Con esto podemos implementar el lazo principal del algoritmo del simplex en redes:"
   ]
  },
  {
   "cell_type": "code",
   "execution_count": 20,
   "metadata": {},
   "outputs": [
    {
     "name": "stdout",
     "output_type": "stream",
     "text": [
      "Lneg = [(1, 4, 1), (3, 5, 1)]\n",
      "Upos = []\n",
      "(i,j,k): (1, 4, 1)\n",
      "C: [(1, 4, 1), (1, 4, 0)]\n",
      "eps= 2\n",
      "x= {(1, 5, 0): 2, (1, 4, 0): 0, (1, 2, 1): 5, (3, 1, 0): 3, (1, 4, 1): 2, (2, 3, 1): 0, (2, 5, 1): 0, (2, 4, 1): 1, (5, 4, 1): 0, (3, 5, 1): 0}\n",
      "T: [(1, 5, 0), (3, 1, 0), (2, 4, 1), (1, 4, 1)]\n",
      "L: [(2, 3, 1), (2, 5, 1), (5, 4, 1), (3, 5, 1), (1, 4, 0)]\n",
      "U: [(1, 2, 1)]\n",
      "y= {1: 0, 2: 0, 3: -54, 4: 1, 5: 54}\n",
      "p= {1: None, 2: 4, 3: 1, 4: 1, 5: 1}\n",
      "Lneg: [(2, 5, 1), (3, 5, 1)]\n",
      "Upos: [(1, 2, 1)]\n",
      "(i,j,k): (2, 5, 1)\n",
      "C: [(2, 5, 1), (1, 5, 0), (1, 4, 1), (2, 4, 1)]\n",
      "eps= 0\n",
      "x= {(1, 5, 0): 2, (1, 4, 0): 0, (1, 2, 1): 5, (3, 1, 0): 3, (1, 4, 1): 2, (2, 3, 1): 0, (2, 5, 1): 0, (2, 4, 1): 1, (5, 4, 1): 0, (3, 5, 1): 0}\n",
      "T: [(1, 5, 0), (3, 1, 0), (2, 4, 1), (2, 5, 1)]\n",
      "L: [(2, 3, 1), (5, 4, 1), (3, 5, 1), (1, 4, 0)]\n",
      "U: [(1, 2, 1), (1, 4, 1)]\n",
      "y= {1: 0, 2: 52, 3: -54, 4: 53, 5: 54}\n",
      "p= {1: None, 2: 5, 3: 1, 4: 2, 5: 1}\n",
      "Lneg: [(3, 5, 1)]\n",
      "Upos: []\n",
      "(i,j,k): (3, 5, 1)\n",
      "C: [(3, 5, 1), (1, 5, 0), (3, 1, 0)]\n",
      "eps= 2\n",
      "x= {(1, 5, 0): 0, (1, 4, 0): 0, (1, 2, 1): 5, (3, 1, 0): 1, (1, 4, 1): 2, (2, 3, 1): 0, (2, 5, 1): 0, (2, 4, 1): 1, (5, 4, 1): 0, (3, 5, 1): 2}\n",
      "T: [(3, 1, 0), (2, 4, 1), (2, 5, 1), (3, 5, 1)]\n",
      "L: [(2, 3, 1), (5, 4, 1), (1, 4, 0), (1, 5, 0)]\n",
      "U: [(1, 2, 1), (1, 4, 1)]\n",
      "y= {1: 0, 2: -54, 3: -54, 4: -53, 5: -52}\n",
      "p= {1: None, 2: 5, 3: 1, 4: 2, 5: 3}\n",
      "Lneg: []\n",
      "Upos: [(1, 2, 1), (1, 4, 1)]\n",
      "(i,j,k): (1, 2, 1)\n",
      "C: [(1, 2, 1), (3, 1, 0), (3, 5, 1), (2, 5, 1)]\n",
      "eps= 0\n",
      "x= {(1, 5, 0): 0, (1, 4, 0): 0, (1, 2, 1): 5, (3, 1, 0): 1, (1, 4, 1): 2, (2, 3, 1): 0, (2, 5, 1): 0, (2, 4, 1): 1, (5, 4, 1): 0, (3, 5, 1): 2}\n",
      "T: [(3, 1, 0), (2, 4, 1), (3, 5, 1), (1, 2, 1)]\n",
      "L: [(2, 3, 1), (5, 4, 1), (1, 4, 0), (1, 5, 0), (2, 5, 1)]\n",
      "U: [(1, 4, 1)]\n",
      "y= {1: 0, 2: 3, 3: -54, 4: 4, 5: -52}\n",
      "p= {1: None, 2: 1, 3: 1, 4: 2, 5: 3}\n",
      "Lneg: [(5, 4, 1)]\n",
      "Upos: []\n",
      "(i,j,k): (5, 4, 1)\n",
      "C: [(5, 4, 1), (2, 4, 1), (1, 2, 1), (3, 1, 0), (3, 5, 1)]\n",
      "eps= 1\n",
      "x= {(1, 5, 0): 0, (1, 4, 0): 0, (1, 2, 1): 4, (3, 1, 0): 0, (1, 4, 1): 2, (2, 3, 1): 0, (2, 5, 1): 0, (2, 4, 1): 0, (5, 4, 1): 1, (3, 5, 1): 3}\n",
      "T: [(3, 1, 0), (3, 5, 1), (1, 2, 1), (5, 4, 1)]\n",
      "L: [(2, 3, 1), (1, 4, 0), (1, 5, 0), (2, 5, 1), (2, 4, 1)]\n",
      "U: [(1, 4, 1)]\n",
      "y= {1: 0, 2: 3, 3: -54, 4: -51, 5: -52}\n",
      "p= {1: None, 2: 1, 3: 1, 4: 5, 5: 3}\n",
      "Lneg: []\n",
      "Upos: [(1, 4, 1)]\n",
      "(i,j,k): (1, 4, 1)\n",
      "C: [(1, 4, 1), (3, 1, 0), (3, 5, 1), (5, 4, 1)]\n",
      "eps= 0\n",
      "x= {(1, 5, 0): 0, (1, 4, 0): 0, (1, 2, 1): 4, (3, 1, 0): 0, (1, 4, 1): 2, (2, 3, 1): 0, (2, 5, 1): 0, (2, 4, 1): 0, (5, 4, 1): 1, (3, 5, 1): 3}\n",
      "T: [(3, 5, 1), (1, 2, 1), (5, 4, 1), (1, 4, 1)]\n",
      "L: [(2, 3, 1), (1, 4, 0), (1, 5, 0), (2, 5, 1), (2, 4, 1), (3, 1, 0)]\n",
      "U: []\n",
      "y= {1: 0, 2: 3, 3: -2, 4: 1, 5: 0}\n",
      "p= {1: None, 2: 1, 3: 5, 4: 1, 5: 4}\n",
      "Lneg: []\n",
      "Upos: []\n"
     ]
    }
   ],
   "source": [
    "# actualizar las listas con arcos candidatos Lneg y Upos\n",
    "# aristas de L con costo reducido negativo\n",
    "Lneg = [(i,j,k) for (i,j,k) in L if cc[i,j,k]+y[i]-y[j]<0]\n",
    "# aristas de U con costo reducido positivo\n",
    "Upos = [(i,j,k) for (i,j,k) in U if cc[i,j,k]+y[i]-y[j]>0]\n",
    "\n",
    "print('Lneg = {}'.format(Lneg))\n",
    "print('Upos = {}'.format(Upos))\n",
    "\n",
    "# lazo principal del algoritmo\n",
    "# mientras Lneg y Upos no sean ambas vacías\n",
    "while Lneg!=[] or Upos!=[]:\n",
    "    # seleccionar arco candidato a ingresar al árbol\n",
    "    if Lneg!=[]:\n",
    "        (i,j,k) = Lneg.pop(0)\n",
    "        enL = True\n",
    "    else:\n",
    "        (i,j,k) = Upos.pop(0)\n",
    "        enL = False\n",
    "    print(\"(i,j,k): {}\".format((i,j,k)))\n",
    "    # reconstruir ciclo asociado a (i,j)\n",
    "    eps, C = reconstruir_ciclo(i, j, k, p, uu, x, T, enL)\n",
    "    print(\"C: {}\".format(C))\n",
    "    print(\"eps= {}\".format(eps))\n",
    "    # transformar el flujo usando C\n",
    "    if enL:\n",
    "        salir = transformar_flujo(C, eps, i, x, uu)\n",
    "    else:\n",
    "        salir = transformar_flujo(C, eps, j, x, uu)\n",
    "    print(\"x= {}\".format(x))\n",
    "    # actualizar particion\n",
    "    # print(\"T: {}\".format(T))\n",
    "    # print(\"L: {}\".format(L))\n",
    "    # print(\"U: {}\".format(U))\n",
    "    actualizar_particion(T, L, U, salir, i, j, k, x, enL)\n",
    "    print(\"T: {}\".format(T))\n",
    "    print(\"L: {}\".format(L))\n",
    "    print(\"U: {}\".format(U))\n",
    "    # actualizar y y p\n",
    "    y, p = actualizar_y(T, V, r,cc)\n",
    "    print(\"y= {}\".format(y))\n",
    "    print(\"p= {}\".format(p))\n",
    "    # actualizar las listas con arcos candidatos Lneg y Upos\n",
    "    # aristas de L con costo reducido negativo\n",
    "    Lneg = [(i,j,k) for (i,j,k) in L if cc[i,j,k]+y[i]-y[j]<0]\n",
    "    print(\"Lneg: {}\".format(Lneg))\n",
    "    # aristas de U con costo reducido positivo\n",
    "    Upos = [(i,j,k) for (i,j,k) in U if cc[i,j,k]+y[i]-y[j]>0]\n",
    "    print(\"Upos: {}\".format(Upos))\n"
   ]
  },
  {
   "cell_type": "markdown",
   "metadata": {},
   "source": [
    "Reunimos finalmente todo el código anterior en una función para calcular el flujo de costo mínimo de una red capacitada con demandas empleando el algoritmo del simplex en redes:"
   ]
  },
  {
   "cell_type": "code",
   "execution_count": 21,
   "metadata": {},
   "outputs": [
    {
     "name": "stdout",
     "output_type": "stream",
     "text": [
      "x= {(1, 5, 0): 0, (1, 4, 0): 0, (1, 2, 1): 4, (3, 1, 0): 0, (1, 4, 1): 2, (2, 3, 1): 0, (2, 5, 1): 0, (2, 4, 1): 0, (5, 4, 1): 1, (3, 5, 1): 3}\n"
     ]
    }
   ],
   "source": [
    "def simplex_redes(V, A, b):\n",
    "    # extraer las primeras dos componentes de cada arco en la lista AA\n",
    "    AA = [(i, j, 1) for (i,j,uij,cij) in A]\n",
    "    # crear diccionarios de arcos salientes / entrantes\n",
    "    salientes = {i : [(k,j,l) for (k,j,l) in AA if k==i] for i in V}\n",
    "    entrantes = {i : [(k,j,l) for (k,j,l) in AA if j==i] for i in V}\n",
    "\n",
    "    # transformar las capacidades en diccionario indexado por los arcos\n",
    "    uu = {(i,j,1) : uij for (i,j,uij,cij) in A}\n",
    "    # transformar los costos en diccionario indexado por los arcos\n",
    "    cc = {(i,j,1) : cij for (i,j,uij,cij) in A}\n",
    "    # transformar las demandas en diccionario indexado por los nodos\n",
    "    bb ={V[i] : b[i] for i in range(len(V))}\n",
    "\n",
    "    # elegir nodo r\n",
    "    r = 1\n",
    "\n",
    "    # Crear árbol inicial\n",
    "    # elegir M como la suma de costos*capacidades de todos los arcos\n",
    "    M = sum([cc[i,j,k]*uu[i,j,k] for (i,j,k) in AA])\n",
    "    # crear lista de arcos faltantes la forma (r,i) con bb[i]>=0\n",
    "    L1 = [(r,i,0) for i in V if i!=r and bb[i]>=0 and (r,i,1) not in salientes[r]]\n",
    "    # agregar a la lista arcos (r,i) con u[r,i]<bb[i]\n",
    "    L1+= [(r,i,0) for i in V if i!=r and bb[i]>=0 and (r,i,1) in salientes[r] and uu[r,i,1]<bb[i]]\n",
    "    # agregar arcos artificiales de la forma (r,i,0) a la red\n",
    "    # la tercera componente sirve para identificar que se trata de un arco artificial\n",
    "    for (r,i,k) in L1:\n",
    "        AA.append((r,i,k))\n",
    "        salientes[r].append((r,i,k))\n",
    "        entrantes[i].append((r,i,k))\n",
    "        uu[(r,i,k)]= bb[i]\n",
    "        cc[(r,i,k)]= M\n",
    "    # crear lista de arcos faltantes la forma (i,r) con bb[i]<0\n",
    "    L2 = [(i,r,0) for i in V if i!=r and bb[i]<0 and (i,r,1) not in entrantes[r]]\n",
    "    # agregar a la lista arcos (i,r) con u[i,r]<-bb[i]\n",
    "    L2+= [(i,r,0) for i in V if i!=r and bb[i]<0 and (i,r,1) in entrantes[r] and uu[i,r,1]<-bb[i]]\n",
    "    # agregar arcos faltantes de la forma (i,r) a la red\n",
    "    # la tercera componente sirve para identificar que se trata de un arco artificial\n",
    "    for (i,r,k) in L2:\n",
    "        AA.append((i,r,k))\n",
    "        entrantes[r].append((i,r,k))\n",
    "        salientes[i].append((i,r,k))\n",
    "        uu[(i,r,k)]= -bb[i]\n",
    "        cc[(i,r,k)]= M\n",
    "    # lista con los arcos del arbol inicial\n",
    "    # son todos los arcos artificiales añadidos...\n",
    "    T = L1 + L2\n",
    "    # ... más los arcos originales que sirvan para enviar el flujo inicial\n",
    "    T+= [(r,i,1) for i in V if i!=r and bb[i]>=0 and (r,i,1) in salientes[r] and uu[r,i,1]>=bb[i]]\n",
    "    T+= [(i,r,1) for i in V if i!=r and bb[i]<0 and (i,r,1) in entrantes[r] and uu[i,r,1]>=-bb[i]]\n",
    "\n",
    "    # construir flujo inicial como lista\n",
    "    Lx = [(r,i,k,bb[i]) for (j,i,k) in T if j==r] + [(i,r,k,-bb[i]) for (i,j,k) in T if j==r]\n",
    "    Lx+= [(i,j,k,0) for (i,j,k) in AA if (i,j,k) not in T]\n",
    "    # transformar flujo inicial en diccionario\n",
    "    x = {(i,j,k) : xij for (i,j,k,xij) in Lx}\n",
    "\n",
    "    # construir partición inicial\n",
    "    L = [(i,j,k) for (i,j,k) in AA if (i,j,k) not in T]\n",
    "    U = []\n",
    "\n",
    "    # inicializar y y p\n",
    "    y, p = actualizar_y(T, V, r, cc)\n",
    "    # actualizar las listas con arcos candidatos Lneg y Upos\n",
    "    # aristas de L con costo reducido negativo\n",
    "    Lneg = [(i,j,k) for (i,j,k) in L if cc[i,j,k]+y[i]-y[j]<0]\n",
    "    # aristas de U con costo reducido positivo\n",
    "    Upos = [(i,j,k) for (i,j,k) in U if cc[i,j,k]+y[i]-y[j]>0]\n",
    "    \n",
    "    # lazo principal del algoritmo\n",
    "    # mientras Lneg y Upos no sean ambas vacías\n",
    "    while Lneg!=[] or Upos!=[]:\n",
    "        # seleccionar arco candidato a ingresar al árbol\n",
    "        if Lneg!=[]:\n",
    "            (i,j,k) = Lneg.pop(0)\n",
    "            enL = True\n",
    "        else:\n",
    "            (i,j,k) = Upos.pop(0)\n",
    "            enL = False\n",
    "        # reconstruir ciclo asociado a (i,j)\n",
    "        eps, C = reconstruir_ciclo(i, j, k, p, uu, x, T, enL)\n",
    "        # transformar el flujo usando C\n",
    "        if enL:\n",
    "            salir = transformar_flujo(C, eps, i, x, uu)\n",
    "        else:\n",
    "            salir = transformar_flujo(C, eps, j, x, uu)\n",
    "        # actualizar particion\n",
    "        actualizar_particion(T, L, U, salir, i, j, k, x, enL)\n",
    "        # actualizar y y p\n",
    "        y, p = actualizar_y(T, V, r, cc)\n",
    "        # actualizar las listas con arcos candidatos Lneg y Upos\n",
    "        Lneg = [(i,j,k) for (i,j,k) in L if cc[i,j,k]+y[i]-y[j]<0]\n",
    "        Upos = [(i,j,k) for (i,j,k) in U if cc[i,j,k]+y[i]-y[j]>0]\n",
    "    return x\n",
    "\n",
    "# nodos del grafo\n",
    "V = range(1, 6)\n",
    "# arcos, capacidades y costos (i, j, u_ij, c_ij)\n",
    "A = [(1,2,4,3), (1,4,2,1), (2,3,4,5), (2,5,3,2), (2,4,2,1), (5,4,3,1), (3,5,3,2)]\n",
    "# demandas de los nodos\n",
    "b = [-6, 4, -3, 3, 2]\n",
    "\n",
    "x = simplex_redes(V, A, b)\n",
    "print(\"x= {}\".format(x))"
   ]
  },
  {
   "cell_type": "markdown",
   "metadata": {},
   "source": [
    "Podemos graficar la solución encontrada por el algoritmo empleando las bibliotecas `networkx` y `ipycytoscape`:"
   ]
  },
  {
   "cell_type": "code",
   "execution_count": 22,
   "metadata": {},
   "outputs": [
    {
     "data": {
      "application/vnd.jupyter.widget-view+json": {
       "model_id": "672862bd3f394defb938da30f134245f",
       "version_major": 2,
       "version_minor": 0
      },
      "text/plain": [
       "CytoscapeWidget(cytoscape_layout={'name': 'cola'}, cytoscape_style=[{'selector': 'node', 'style': {'background…"
      ]
     },
     "execution_count": 22,
     "metadata": {},
     "output_type": "execute_result"
    }
   ],
   "source": [
    "import networkx as nx\n",
    "import ipycytoscape\n",
    "D = nx.MultiDiGraph()\n",
    "D.add_nodes_from(V)\n",
    "for i in V:\n",
    "    D.nodes[i]['label']= str(i) + '\\n' + str(bb[i]) + '/' + str(y[i])\n",
    "for i,j,k in AA:\n",
    "    if x[i,j,k]>0 or k==1:\n",
    "        D.add_edge(i,j,key=(i,j,k))\n",
    "        D.edges[i,j,(i,j,k)]['label'] = x[i,j,k], uu[i,j,k], cc[i,j,k]\n",
    "        if k==0:\n",
    "            # arcos artificiales en rojo\n",
    "            D.edges[i,j,(i,j,k)]['color'] = '#ff0040'\n",
    "        elif (i,j,k) in T:\n",
    "            # arcos azules en T\n",
    "            D.edges[i,j,(i,j,k)]['color'] = '#0404b4'\n",
    "        elif (i,j,k) in L:\n",
    "            # arcos grises en L\n",
    "            D.edges[i,j,(i,j,k)]['color'] = '#bdbdbd'\n",
    "        else:\n",
    "            # arcos celestes en U\n",
    "            D.edges[i,j,(i,j,k)]['color'] = '#81bef7'\n",
    "# print(D.edges)\n",
    "grafo = ipycytoscape.CytoscapeWidget()\n",
    "grafo.graph.add_graph_from_networkx(D, directed=True)\n",
    "grafo.set_style([{'selector': 'node', 'style' : {'background-color': '#11479e', 'font-family': 'helvetica', 'font-size': '10px', 'color':'white', 'label': 'data(label)', 'text-wrap' : 'wrap', 'text-valign' : 'center'}}, \n",
    "                    {'selector': 'node:parent', 'css': {'background-opacity': 0.333}, 'style' : {'font-family': 'helvetica', 'font-size': '10px', 'label': 'data(label)'}}, \n",
    "                    {'selector': 'edge', 'style': {'width': 1, 'line-color': 'data(color)', 'font-size': '10px', 'label': 'data(label)', 'text-valign' : 'top', 'text-margin-y' : '-10px'}}, \n",
    "                    {'selector': 'edge.directed', 'style': {'curve-style': 'bezier', 'target-arrow-shape': 'triangle', 'target-arrow-color': 'data(color)'}}])\n",
    "grafo"
   ]
  },
  {
   "cell_type": "code",
   "execution_count": null,
   "metadata": {},
   "outputs": [],
   "source": []
  }
 ],
 "metadata": {
  "kernelspec": {
   "display_name": "Python 3 (ipykernel)",
   "language": "python",
   "name": "python3"
  },
  "language_info": {
   "codemirror_mode": {
    "name": "ipython",
    "version": 3
   },
   "file_extension": ".py",
   "mimetype": "text/x-python",
   "name": "python",
   "nbconvert_exporter": "python",
   "pygments_lexer": "ipython3",
   "version": "3.12.10"
  }
 },
 "nbformat": 4,
 "nbformat_minor": 4
}
