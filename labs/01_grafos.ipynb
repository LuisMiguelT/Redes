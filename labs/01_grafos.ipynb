{
 "cells": [
  {
   "cell_type": "markdown",
   "metadata": {},
   "source": [
    "# Cuaderno 1: Representación de grafos\n",
    "\n",
    "En el lenguaje Python, un grafo $G=(V,E)$ puede representarse mediante una lista `V` para los nodos y una lista `E` para las aristas, que deben ser parejas (por ejemplo, tuplas) de nodos.\n",
    "\n",
    "Para la implementación de algoritmos de optimización combinatoria, conviene representar los grafos como listas de aristas incidentes a cada nodo. Esto puede hacerse con un diccionario cuyas claves sean los nodos y cuyos valores sean las aristas incidentes.\n",
    " \n",
    "## Ejemplo:\n",
    "\n",
    "Consideremos el grafo dirigido dado por $G=(V, E)$, con $V = \\{ 1, \\ldots, 6\\}$ y $E=\\{ \\{1,2\\}, \\{1,3\\}, \\{1,4\\}, \\{2,6\\}, \\{3,5\\}, \\{4,5\\} \\}$. Los conjuntos de nodos y aristas están representados por medio de las listas:"
   ]
  },
  {
   "cell_type": "code",
   "execution_count": null,
   "metadata": {},
   "outputs": [],
   "source": [
    "V = list(range(1, 7))\n",
    "E = [(1,2), (1,3), (1,4), (2,6), (3,5), (4, 5)]\n",
    "\n",
    "print(V)\n",
    "print(E)"
   ]
  },
  {
   "cell_type": "markdown",
   "metadata": {},
   "source": [
    "A partir de estas listas, podemos construir diccionarios con las listas de aristas incidentes a cada nodo. Es necesario tomar en cuenta que una arista $\\{i, j\\}$ puede aparecer en la lista `E` como la tupla `(i,j)` o `(j,i)`."
   ]
  },
  {
   "cell_type": "code",
   "execution_count": null,
   "metadata": {},
   "outputs": [],
   "source": [
    "incidentes = {i : [(k,j) for (k,j) in E if k==i or j==i] for i in V}\n",
    "print('Aristas incidentes:\\n{}'.format(incidentes))\n",
    "print(incidentes[3])"
   ]
  },
  {
   "cell_type": "markdown",
   "metadata": {},
   "source": [
    "Los datos asociados a nodos o aristas pueden representarse a través de diccionarios indexados por `V` o `E`:"
   ]
  },
  {
   "cell_type": "code",
   "execution_count": null,
   "metadata": {
    "scrolled": true
   },
   "outputs": [],
   "source": [
    "# costos de las aristas\n",
    "c = {\n",
    "    (1, 2) : -5, (1, 3) : 4, (1, 4) : 7, (2, 6) : 8, \n",
    "    (3, 5) :  9, (4, 5) : 6\n",
    "}\n",
    "for (i,j) in E:\n",
    "    print('Costo de la arista {}: {}'.format((i,j), c[i,j]))"
   ]
  },
  {
   "cell_type": "markdown",
   "metadata": {},
   "source": [
    "A veces, datos asociados a nodos o arcos pueden venir dados como listas del tamaño adecuado. Conviene transformarlos en diccionarios:"
   ]
  },
  {
   "cell_type": "code",
   "execution_count": null,
   "metadata": {},
   "outputs": [],
   "source": [
    "# demandas sobre los nodos\n",
    "b = [1, 3, 4, -2, -5, -1]\n",
    "# costos sobre las aristas\n",
    "c2 = [-5, 4, 3, 1, 0, 2]\n",
    "# transformar las demandas en diccionario indexado por los nodos\n",
    "bb = {V[i] : b[i] for i in range(len(V))}\n",
    "# transformar los costos en diccionario indexado por las aristas\n",
    "cc2 = {E[i] : c2[i] for i in range(len(E))}\n",
    "\n",
    "print(bb)\n",
    "print(cc2)\n",
    "a = (1,2)\n",
    "print('El costo de la arista {} es {}'.format(a, cc2[a]))\n",
    "i = 3\n",
    "print('La demanda del nodo {} es {}'.format(i, bb[i]))\n"
   ]
  },
  {
   "cell_type": "markdown",
   "metadata": {},
   "source": [
    "## Exploración de grafos\n",
    "### Búsqueda primero a lo ancho (Algoritmo BFS)\n",
    "El algoritmo BFS (*Breadth-First Search*) consiste en explorar las aristas y nodos de un grafo \"por capas\". Partiendo de un nodo incial $i$, se exploran primero las aristas incidentes a este, luego se exploran las aristas incidentes a cada uno de sus vecinos, y se continúa de manera similar hasta agotar todos los nodos y aristas del grafo (asumiendo que este es conexo). \n",
    "\n",
    "Puede utilizarse un diccionario `m` para marcar los nodos explorados y evitar revisitarlos."
   ]
  },
  {
   "cell_type": "code",
   "execution_count": null,
   "metadata": {},
   "outputs": [],
   "source": [
    "# Algoritmo BFS\n",
    "# Diccionario para marcar nodos visitados\n",
    "# inicia en \"False\" para todo i en V\n",
    "m = {i : False for i in V}\n",
    "# Elegimos arbitrariamente a 1 como nodo inicial\n",
    "# y lo colocamos en una lista Q de nodos por procesar\n",
    "Q = [1]\n",
    "# Repetir mientras Q no esté vacía:\n",
    "while Q!=[]:\n",
    "    # Retirar el primer nodo i de Q\n",
    "    i = Q.pop(0)\n",
    "    # Marcar i\n",
    "    m[i] = True\n",
    "    # Mostrar i\n",
    "    print(i)\n",
    "    print(incidentes[i])\n",
    "    # construir una lista L con los nodos vecinos a i\n",
    "    N = [j for (k,j) in incidentes[i] if k==i] + [j for (j,k) in incidentes[i] if k==i]\n",
    "    print('N= {}'.format(N))\n",
    "    # agregar a Q todos los vecinos de i que aún no han sido marcados y que no están en Q\n",
    "    Q += [i for i in N if (not m[i]) and (i not in Q)] \n",
    "    print('Q= {}'.format(Q))\n"
   ]
  },
  {
   "cell_type": "markdown",
   "metadata": {},
   "source": [
    "### Búsqueda primero en profundidad (Algoritmo DFS)\n",
    "El algoritmo DFS (*Depth-First Search*) consiste en explorar las aristas y nodos de un grafo tratando de construir senderos de la mayor longitud posible. Partiendo de un nodo incial $i$, se explora una arista incidente a este, para llegar a uno de sus vecinos. Luego se explora una arista incidente al nodo vecino, para llegar a un vecino de este, y se continúa de manera similar, evitando visitar cualquier nodo más de una vez. Cuando todos los vecinos de un nodo ya han sido visitados, el algoritmo hace un \"regreso\" (*backtracking*) al nodo anterior en el sendero que va desde el nodo inicial $i$ hasta el nodo actual, y continúa desde allí. El algoritmo termina cuando todos los nodos han sido visitados. \n",
    "\n",
    "El algoritmo DFS puede implementarse usando funciones recursivas:"
   ]
  },
  {
   "cell_type": "code",
   "execution_count": null,
   "metadata": {},
   "outputs": [],
   "source": [
    "# Algoritmo DFS\n",
    "def dfs(i, incidentes, m):\n",
    "    # Imprimir nodo a procesar y marcarlo\n",
    "    print(i)\n",
    "    m[i] = True\n",
    "    # Construir lista con vecinos de i\n",
    "    N = [j for (k,j) in incidentes[i] if k==i] + [j for (j,k) in incidentes[i] if k==i]\n",
    "    print(N)\n",
    "    for j in N:\n",
    "        # Llamar recursivamente a la función sobre los vecinos no marcados\n",
    "        if not m[j]:\n",
    "            dfs(j, incidentes, m)\n",
    "\n",
    "# Inicializar m\n",
    "m = {i : False for i in V}\n",
    "# Empezar la exploración desde el nodo 1\n",
    "dfs(1, incidentes, m)"
   ]
  },
  {
   "cell_type": "code",
   "execution_count": null,
   "metadata": {},
   "outputs": [],
   "source": []
  }
 ],
 "metadata": {
  "kernelspec": {
   "display_name": "Python 3 (ipykernel)",
   "language": "python",
   "name": "python3"
  },
  "language_info": {
   "codemirror_mode": {
    "name": "ipython",
    "version": 3
   },
   "file_extension": ".py",
   "mimetype": "text/x-python",
   "name": "python",
   "nbconvert_exporter": "python",
   "pygments_lexer": "ipython3",
   "version": "3.12.10"
  }
 },
 "nbformat": 4,
 "nbformat_minor": 4
}
