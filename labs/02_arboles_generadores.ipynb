{
 "cells": [
  {
   "cell_type": "markdown",
   "metadata": {},
   "source": [
    "# Cuaderno 2: Árboles generadores de peso mínimo\n",
    "\n",
    "$\\newcommand{\\R}{\\mathbb{R}}$\n",
    "Dos algoritmos conocidos para el cálculo de árboles generadores de peso mínimo son el *algoritmo de Kruskal* y el *algoritmo de Prim*.\n",
    " \n",
    "## Algoritmo de Kruskal:\n",
    "\n",
    "Consideremos el grafo no dirigido $G=(V, E)$, con costos sobre las aristas $c \\in \\R^{E}$, dado por medio de las siguientes listas:"
   ]
  },
  {
   "cell_type": "code",
   "execution_count": 1,
   "metadata": {},
   "outputs": [
    {
     "name": "stdout",
     "output_type": "stream",
     "text": [
      "V= [1, 2, 3, 4, 5, 6]\n",
      "E= [(1, 2), (1, 3), (2, 3), (2, 4), (3, 4), (1, 4), (5, 6), (3, 5), (4, 6)]\n",
      "c= [-5, 4, 3, -7, 5, 1, 0, 2, 5]\n"
     ]
    }
   ],
   "source": [
    "V = list(range(1, 7))\n",
    "E = [(1,2), (1,3), (2,3), (2,4), (3,4), (1, 4), (5,6), (3,5), (4,6)]\n",
    "# costos sobre las aristas\n",
    "c = [-5, 4, 3, -7, 5, 1, 0, 2, 5]\n",
    "\n",
    "print('V= {}'.format(V))\n",
    "print('E= {}'.format(E))\n",
    "print('c= {}'.format(c))\n"
   ]
  },
  {
   "cell_type": "markdown",
   "metadata": {},
   "source": [
    "En primer lugar, creamos diccionarios con las aristas incidentes a cada nodo, y con los costos de las aristas:"
   ]
  },
  {
   "cell_type": "code",
   "execution_count": 2,
   "metadata": {},
   "outputs": [
    {
     "name": "stdout",
     "output_type": "stream",
     "text": [
      "incidentes= {1: [(1, 2), (1, 3), (1, 4)], 2: [(1, 2), (2, 3), (2, 4)], 3: [(1, 3), (2, 3), (3, 4), (3, 5)], 4: [(2, 4), (3, 4), (1, 4), (4, 6)], 5: [(5, 6), (3, 5)], 6: [(5, 6), (4, 6)]}\n",
      "cc= {(1, 2): -5, (1, 3): 4, (2, 3): 3, (2, 4): -7, (3, 4): 5, (1, 4): 1, (5, 6): 0, (3, 5): 2, (4, 6): 5}\n",
      "4\n"
     ]
    }
   ],
   "source": [
    "# crear diccionarios de aristas incidentes\n",
    "incidentes = {i : [(k,j) for (k,j) in E if k==i or j==i] for i in V}\n",
    "\n",
    "# crear diccionario con costos de aristas\n",
    "cc = {E[i] : c[i] for i in range(len(E))}\n",
    "\n",
    "print('incidentes= {}'.format(incidentes))\n",
    "print('cc= {}'.format(cc))\n",
    "print(cc[1,3])"
   ]
  },
  {
   "cell_type": "markdown",
   "metadata": {},
   "source": [
    "El algoritmo de Kruskal requiere como primer paso ordenar las aristas de acuerdo a sus costos. Para ello, puede llamarse a la función `sort` de la clase `list`. El parámetro `key` nos permite especificar un criterio para el ordenamiento. En nuestro caso, usamos el comando `lambda` para definir una función en línea que retorna el valor del diccionario `cc` asociado a una arista, es decir, su costo."
   ]
  },
  {
   "cell_type": "code",
   "execution_count": 3,
   "metadata": {},
   "outputs": [
    {
     "name": "stdout",
     "output_type": "stream",
     "text": [
      "[(1, 2), (1, 3), (2, 3), (2, 4), (3, 4), (1, 4), (5, 6), (3, 5), (4, 6)]\n",
      "[(2, 4), (1, 2), (5, 6), (1, 4), (3, 5), (2, 3), (1, 3), (3, 4), (4, 6)]\n"
     ]
    }
   ],
   "source": [
    "print(E)\n",
    "def costo(e):\n",
    "    return cc[e]\n",
    "E.sort(key=costo)\n",
    "# Otra alternativa\n",
    "# E.sort(key= lambda x : cc[x])\n",
    "print(E)"
   ]
  },
  {
   "cell_type": "markdown",
   "metadata": {},
   "source": [
    "Para la implementación del algoritmo utilizaremos dos estructuras de datos: una lista `T` que almacenará las aristas del árbol, y un diccionario `S` indexado por los nodos, que almacenará la componente conexa de cada nodo. Este diccionario nos servirá para determinar si al agregar una arista a `T` se forma un ciclo. "
   ]
  },
  {
   "cell_type": "code",
   "execution_count": 4,
   "metadata": {},
   "outputs": [
    {
     "name": "stdout",
     "output_type": "stream",
     "text": [
      "[]\n",
      "{1: 1, 2: 2, 3: 3, 4: 4, 5: 5, 6: 6}\n"
     ]
    }
   ],
   "source": [
    "# T : aristas del arbol\n",
    "T = []\n",
    "# componentes conexas\n",
    "S = {i : i for i in V}\n",
    "\n",
    "print(T)\n",
    "print(S)\n"
   ]
  },
  {
   "cell_type": "markdown",
   "metadata": {},
   "source": [
    "Con esto, la implementación del lazo principal del algoritmo queda como se indica a continuación. Observar que para determinar si al añadir la arista $ij$ se forma un ciclo, basta con probar si `S[i]` es igual a `S[j]`. Cada vez que se agrega una arista a `T`, los valores de `S` deben actualizarse para fusionar las componentes conexas."
   ]
  },
  {
   "cell_type": "code",
   "execution_count": null,
   "metadata": {},
   "outputs": [],
   "source": [
    "# escribir lista de aristas ordenada\n",
    "print(E)\n",
    "# lazo principal\n",
    "for (i,j) in E:\n",
    "    print((i,j))\n",
    "    print(S)\n",
    "    # ignorar arista si forma ciclos\n",
    "    if S[i]==S[j]:\n",
    "        continue\n",
    "    # agregar arista al arbol\n",
    "    T.append((i,j))\n",
    "    # actualizar componentes conexas (cambiar S[i] por S[j])\n",
    "    s_i = S[i]\n",
    "    for k in V:\n",
    "        if S[k]==s_i:\n",
    "            S[k]=S[j]\n",
    "\n",
    "# mostrar arbol generador de peso mínimo\n",
    "print (T)\n"
   ]
  },
  {
   "cell_type": "markdown",
   "metadata": {},
   "source": [
    "Notar que para fusionar componentes conexas, debe recorrerse toda la lista `S` sustituyendo los valores de `S[i]` por `S[j]`. Esto es muy costoso. Una mejor idea es mantener un diccionario `LS` cuyas claves son las componentes conexas, y que tiene por valores las listas de nodos de una componente conexa. Este diccionario se inicializa de la siguiente manera:"
   ]
  },
  {
   "cell_type": "code",
   "execution_count": 5,
   "metadata": {},
   "outputs": [
    {
     "name": "stdout",
     "output_type": "stream",
     "text": [
      "{1: [1], 2: [2], 3: [3], 4: [4], 5: [5], 6: [6]}\n"
     ]
    }
   ],
   "source": [
    "# diccionario de nodos en una componente conexa\n",
    "LS = {i : [i] for i in V}\n",
    "\n",
    "print(LS)\n"
   ]
  },
  {
   "cell_type": "markdown",
   "metadata": {},
   "source": [
    "Empleando el diccionario `LS`, la fusión de las componentes conexas puede hacerse de manera más eficiente. Notar que es necesario actualizar el diccionario después de cada fusión."
   ]
  },
  {
   "cell_type": "code",
   "execution_count": 6,
   "metadata": {},
   "outputs": [
    {
     "name": "stdout",
     "output_type": "stream",
     "text": [
      "[(2, 4), (1, 2), (5, 6), (1, 4), (3, 5), (2, 3), (1, 3), (3, 4), (4, 6)]\n",
      "S= {1: 1, 2: 2, 3: 3, 4: 4, 5: 5, 6: 6}\n",
      "LS= {1: [1], 2: [2], 3: [3], 4: [4], 5: [5], 6: [6]}\n",
      "(2, 4)\n",
      "{1: 1, 2: 2, 3: 3, 4: 4, 5: 5, 6: 6}\n",
      "S= {1: 1, 2: 4, 3: 3, 4: 4, 5: 5, 6: 6}\n",
      "LS= {1: [1], 2: [2], 3: [3], 4: [4, 2], 5: [5], 6: [6]}\n",
      "(1, 2)\n",
      "{1: 1, 2: 4, 3: 3, 4: 4, 5: 5, 6: 6}\n",
      "S= {1: 4, 2: 4, 3: 3, 4: 4, 5: 5, 6: 6}\n",
      "LS= {1: [1], 2: [2], 3: [3], 4: [4, 2, 1], 5: [5], 6: [6]}\n",
      "(5, 6)\n",
      "{1: 4, 2: 4, 3: 3, 4: 4, 5: 5, 6: 6}\n",
      "S= {1: 4, 2: 4, 3: 3, 4: 4, 5: 6, 6: 6}\n",
      "LS= {1: [1], 2: [2], 3: [3], 4: [4, 2, 1], 5: [5], 6: [6, 5]}\n",
      "(1, 4)\n",
      "{1: 4, 2: 4, 3: 3, 4: 4, 5: 6, 6: 6}\n",
      "(3, 5)\n",
      "{1: 4, 2: 4, 3: 3, 4: 4, 5: 6, 6: 6}\n",
      "S= {1: 4, 2: 4, 3: 6, 4: 4, 5: 6, 6: 6}\n",
      "LS= {1: [1], 2: [2], 3: [3], 4: [4, 2, 1], 5: [5], 6: [6, 5, 3]}\n",
      "(2, 3)\n",
      "{1: 4, 2: 4, 3: 6, 4: 4, 5: 6, 6: 6}\n",
      "S= {1: 6, 2: 6, 3: 6, 4: 6, 5: 6, 6: 6}\n",
      "LS= {1: [1], 2: [2], 3: [3], 4: [4, 2, 1], 5: [5], 6: [6, 5, 3, 4, 2, 1]}\n",
      "(1, 3)\n",
      "{1: 6, 2: 6, 3: 6, 4: 6, 5: 6, 6: 6}\n",
      "(3, 4)\n",
      "{1: 6, 2: 6, 3: 6, 4: 6, 5: 6, 6: 6}\n",
      "(4, 6)\n",
      "{1: 6, 2: 6, 3: 6, 4: 6, 5: 6, 6: 6}\n",
      "[(2, 4), (1, 2), (5, 6), (3, 5), (2, 3)]\n"
     ]
    }
   ],
   "source": [
    "# mostrar aristas del grafo, ordenadas por costos\n",
    "print(E)\n",
    "# T : aristas del arbol\n",
    "T = []\n",
    "# componentes conexas\n",
    "S = {i : i for i in V}\n",
    "# diccionario de nodos en una componente conexa\n",
    "LS = {i : [i] for i in V}\n",
    "print('S= {}'.format(S))\n",
    "print('LS= {}'.format(LS))\n",
    "for (i,j) in E:\n",
    "    print((i,j))\n",
    "    print(S)\n",
    "    # ignorar arista si forma ciclos\n",
    "    if S[i]==S[j]:\n",
    "        continue\n",
    "    # agregar arista al arbol\n",
    "    T.append((i,j))\n",
    "    # actualizar componentes conexas (cambiar S[i] por S[j])\n",
    "    s_i = S[i]\n",
    "    for k in LS[s_i]:\n",
    "        S[k]=S[j]\n",
    "    # actualizar LS (la lista LS[S[j]] \"absorbe\" a la lista LS[S[i]])\n",
    "    LS[S[j]] += LS[s_i]\n",
    "    print('S= {}'.format(S))\n",
    "    print('LS= {}'.format(LS))\n",
    "\n",
    "# mostrar arbol generador de peso mínimo\n",
    "print (T)\n"
   ]
  },
  {
   "cell_type": "markdown",
   "metadata": {},
   "source": [
    "Una optimización adicional consiste en determinar cuál es la componente conexa más pequeña de entre las dos componentes conexas a fusionar, y actualizar esa componente:"
   ]
  },
  {
   "cell_type": "code",
   "execution_count": 7,
   "metadata": {},
   "outputs": [
    {
     "name": "stdout",
     "output_type": "stream",
     "text": [
      "S= {1: 1, 2: 2, 3: 3, 4: 4, 5: 5, 6: 6}\n",
      "LS= {1: [1], 2: [2], 3: [3], 4: [4], 5: [5], 6: [6]}\n",
      "S= {1: 1, 2: 2, 3: 3, 4: 2, 5: 5, 6: 6}\n",
      "LS= {1: [1], 2: [2, 4], 3: [3], 4: [4], 5: [5], 6: [6]}\n",
      "S= {1: 2, 2: 2, 3: 3, 4: 2, 5: 5, 6: 6}\n",
      "LS= {1: [1], 2: [2, 4, 1], 3: [3], 4: [4], 5: [5], 6: [6]}\n",
      "S= {1: 2, 2: 2, 3: 3, 4: 2, 5: 5, 6: 5}\n",
      "LS= {1: [1], 2: [2, 4, 1], 3: [3], 4: [4], 5: [5, 6], 6: [6]}\n",
      "S= {1: 2, 2: 2, 3: 5, 4: 2, 5: 5, 6: 5}\n",
      "LS= {1: [1], 2: [2, 4, 1], 3: [3], 4: [4], 5: [5, 6, 3], 6: [6]}\n",
      "S= {1: 2, 2: 2, 3: 2, 4: 2, 5: 2, 6: 2}\n",
      "LS= {1: [1], 2: [2, 4, 1, 5, 6, 3], 3: [3], 4: [4], 5: [5, 6, 3], 6: [6]}\n",
      "[(2, 4), (1, 2), (5, 6), (3, 5), (2, 3)]\n"
     ]
    }
   ],
   "source": [
    "# T : aristas del arbol\n",
    "T = []\n",
    "# componentes conexas\n",
    "S = {i : i for i in V}\n",
    "# diccionario de nodos en una componente conexa\n",
    "LS = {i : [i] for i in V}\n",
    "print('S= {}'.format(S))\n",
    "print('LS= {}'.format(LS))\n",
    "\n",
    "for (i,j) in E:\n",
    "    # ignorar arista si forma ciclos\n",
    "    if S[i]==S[j]:\n",
    "        continue\n",
    "    # agregar arista al arbol\n",
    "    T.append((i,j))\n",
    "    # determinar componente pequeña m y componente grande M\n",
    "    if len(LS[S[i]]) < len(LS[S[j]]):\n",
    "        m, M = i, j \n",
    "    else:\n",
    "        m, M = j, i \n",
    "    # actualizar componentes conexas (cambiar S[m] por S[M])\n",
    "    s = S[m]\n",
    "    for k in LS[S[m]]:\n",
    "        S[k]=S[M]\n",
    "    # actualizar LS (la lista LS[S[j]] \"absorbe\" a la lista LS[S[i]])\n",
    "    LS[S[M]] += LS[s]\n",
    "    print('S= {}'.format(S))\n",
    "    print('LS= {}'.format(LS))\n",
    "\n",
    "# mostrar arbol generador de peso mínimo\n",
    "print (T)"
   ]
  },
  {
   "cell_type": "markdown",
   "metadata": {},
   "source": [
    "Para comparar entre sí las tres versiones del algoritmo, las implementamos a continuación como funciones, eliminando las instrucciones `print` para la salida de mensajes intermedios.\n",
    "\n",
    "Versión 1:"
   ]
  },
  {
   "cell_type": "code",
   "execution_count": 8,
   "metadata": {},
   "outputs": [],
   "source": [
    "def Kruskal1(V, E, cc):\n",
    "    # ordenar aristas de acuerdo a costos\n",
    "    E.sort(key= lambda x : cc[x])\n",
    "    # lista de aristas del arbol\n",
    "    T = []\n",
    "    # diccionario de componentes conexas\n",
    "    S = {i : i for i in V}\n",
    "    for (i,j) in E:\n",
    "        # ignorar arista si forma ciclos\n",
    "        if S[i]==S[j]:\n",
    "            continue\n",
    "        # agregar arista al arbol\n",
    "        T.append((i,j))\n",
    "        # actualizar componentes conexas (cambiar S[i] por S[j])\n",
    "        s_i = S[i]\n",
    "        for k in V:\n",
    "            if S[k]==s_i:\n",
    "                S[k]=S[j]\n",
    "    return T\n"
   ]
  },
  {
   "cell_type": "markdown",
   "metadata": {},
   "source": [
    "Versión 2:"
   ]
  },
  {
   "cell_type": "code",
   "execution_count": 9,
   "metadata": {},
   "outputs": [],
   "source": [
    "def Kruskal2(V, E, cc):\n",
    "    # ordenar aristas de acuerdo a costos\n",
    "    E.sort(key= lambda x : cc[x])\n",
    "    # lista de aristas del arbol\n",
    "    T = []\n",
    "    # diccionario de componentes conexas\n",
    "    S = {i : i for i in V}\n",
    "    # lista de nodos en una componente conexa\n",
    "    LS = {i : [i] for i in V}\n",
    "    for (i,j) in E:\n",
    "        # ignorar arista si forma ciclos\n",
    "        if S[i]==S[j]:\n",
    "            continue\n",
    "        # agregar arista al arbol\n",
    "        T.append((i,j))\n",
    "        # actualizar componentes conexas (cambiar S[i] por S[j])\n",
    "        s_i = S[i]\n",
    "        for k in LS[S[i]]:\n",
    "            S[k]=S[j]\n",
    "        # actualizar LS (la lista LS[S[j]] \"absorbe\" a la lista LS[S[i]])\n",
    "        LS[S[j]] += LS[s_i]\n",
    "    return T\n"
   ]
  },
  {
   "cell_type": "markdown",
   "metadata": {},
   "source": [
    "Versión 3:"
   ]
  },
  {
   "cell_type": "code",
   "execution_count": 10,
   "metadata": {},
   "outputs": [],
   "source": [
    "def Kruskal3(V, E, cc):\n",
    "    # ordenar aristas de acuerdo a costos\n",
    "    E.sort(key= lambda x : cc[x])\n",
    "    # lista de aristas del arbol\n",
    "    T = []\n",
    "    # diccionario de componentes conexas\n",
    "    S = {i : i for i in V}\n",
    "    # lista de nodos en una componente conexa\n",
    "    LS = {i : [i] for i in V}\n",
    "    for (i,j) in E:\n",
    "        # ignorar arista si forma ciclos\n",
    "        if S[i]==S[j]:\n",
    "            continue\n",
    "        # agregar arista al arbol\n",
    "        T.append((i,j))\n",
    "        if len(T)==len(V)-1:\n",
    "            break\n",
    "        # determinar componente pequeña m y componente grande M\n",
    "        if len(LS[S[i]]) < len(LS[S[j]]):\n",
    "            m, M = i, j \n",
    "        else:\n",
    "            m, M = j, i \n",
    "        # actualizar componentes conexas (cambiar S[m] por S[M])\n",
    "        s = S[m]\n",
    "        for k in LS[S[m]]:\n",
    "            S[k]=S[M]\n",
    "        # actualizar LS (la lista LS[S[j]] \"absorbe\" a la lista LS[S[i]])\n",
    "        LS[S[M]] += LS[s]\n",
    "    return T\n"
   ]
  },
  {
   "cell_type": "markdown",
   "metadata": {},
   "source": [
    "Verifiquemos estas tres versiones del algoritmo sobre el ejemplo anterior:"
   ]
  },
  {
   "cell_type": "code",
   "execution_count": 11,
   "metadata": {},
   "outputs": [
    {
     "name": "stdout",
     "output_type": "stream",
     "text": [
      "Primera versión del algoritmo de Kruskal:\n",
      "[(2, 4), (1, 2), (5, 6), (3, 5), (2, 3)]\n",
      "Segunda versión del algoritmo de Kruskal:\n",
      "[(2, 4), (1, 2), (5, 6), (3, 5), (2, 3)]\n",
      "Tercera versión del algoritmo de Kruskal:\n",
      "[(2, 4), (1, 2), (5, 6), (3, 5), (2, 3)]\n"
     ]
    }
   ],
   "source": [
    "# Datos del grafo\n",
    "# Nodos y aristas\n",
    "V = range(1, 7)\n",
    "E = [(1,2), (1,3), (2,3), (2,4), (3,4), (4, 1), (5,6), (3,5), (4,6)]\n",
    "# costos sobre las aristas\n",
    "c = [-5, 4, 3, -7, 5, 1, 0, 2, 5]\n",
    "\n",
    "# crear diccionario de costos indexado por aristas\n",
    "cc = {E[i] : c[i] for i in range(len(E))}\n",
    "\n",
    "# llamar al primer algoritmo\n",
    "T = Kruskal1(V, E, cc)\n",
    "# mostrar arbol generador de peso mínimo\n",
    "print('Primera versión del algoritmo de Kruskal:')\n",
    "print (T)\n",
    "\n",
    "E = [(1,2), (1,3), (2,3), (2,4), (3,4), (4, 1), (5,6), (3,5), (4,6)]\n",
    "# llamar al segundo algoritmo\n",
    "T = Kruskal2(V, E, cc)\n",
    "# mostrar arbol generador de peso mínimo\n",
    "print('Segunda versión del algoritmo de Kruskal:')\n",
    "print (T)\n",
    "\n",
    "E = [(1,2), (1,3), (2,3), (2,4), (3,4), (4, 1), (5,6), (3,5), (4,6)]\n",
    "# llamar al tercer algoritmo\n",
    "T = Kruskal3(V, E, cc)\n",
    "# mostrar arbol generador de peso mínimo\n",
    "print('Tercera versión del algoritmo de Kruskal:')\n",
    "print (T)\n",
    "\n"
   ]
  },
  {
   "cell_type": "markdown",
   "metadata": {},
   "source": [
    "Probamos ahora las tres versiones del algoritmo sobre grafos aleatorios conexos con `n` vértices y probabilidad `p` de que dos vértices estén conectados con una arista. Medimos sus tiempos de ejecución usando la función `time()` del módulo `time`."
   ]
  },
  {
   "cell_type": "code",
   "execution_count": 12,
   "metadata": {},
   "outputs": [
    {
     "name": "stdout",
     "output_type": "stream",
     "text": [
      "m= 7501144\n",
      "Primera versión del algoritmo de Kruskal:\n",
      "Tiempo: 5.9667439460754395s\n",
      "Segunda versión del algoritmo de Kruskal:\n",
      "Tiempo: 5.619081974029541s\n",
      "Tercera versión del algoritmo de Kruskal:\n",
      "Tiempo: 4.081459999084473s\n"
     ]
    }
   ],
   "source": [
    "import random as r\n",
    "import time\n",
    "# Datos de entrada\n",
    "# número de nodos del grafo\n",
    "n = 5000\n",
    "# probabilidad de arista\n",
    "p = 0.6\n",
    "\n",
    "# Construir grafo conexo aleatorio\n",
    "# conjunto de nodos\n",
    "V = range(1, n+1)\n",
    "# colocar inicialmente las aristas (1,2),(2,3),...,(n-1,n) para garantizar conexidad\n",
    "E=[(i, i+1) for i in range(1,n)]\n",
    "# colocar las demás aristas de acuerdo a la probabilidad p\n",
    "for i in V:\n",
    "    for j in range(i+2, n+1):\n",
    "        if r.random() < p:\n",
    "            E.append((i,j))\n",
    "# número de aristas\n",
    "m= len(E)\n",
    "# construir un diccionario de costos aleatorios en {-m, m} indexado por las aristas\n",
    "cc = {(i,j) : r.randint(-m,m) for (i,j) in E}\n",
    "#print('V= {}'.format(V))\n",
    "#print('E= {}'.format(E))\n",
    "print('m= {}'.format(m))\n",
    "#print('cc= {}'.format(cc))\n",
    "E2 = E.copy()\n",
    "\n",
    "# Correr los tres algoritmos y registrar los tiempos\n",
    "# llamar al primer algoritmo\n",
    "t1 = time.time()\n",
    "T = Kruskal1(V, E, cc)\n",
    "t2 = time.time()\n",
    "# mostrar arbol generador de peso mínimo\n",
    "print('Primera versión del algoritmo de Kruskal:')\n",
    "#print (T)\n",
    "print('Tiempo: {}s'.format(t2-t1))\n",
    "\n",
    "# llamar al segundo algoritmo\n",
    "E = E2.copy()\n",
    "t1 = time.time()\n",
    "T = Kruskal2(V, E, cc)\n",
    "t2 = time.time()\n",
    "# mostrar arbol generador de peso mínimo\n",
    "print('Segunda versión del algoritmo de Kruskal:')\n",
    "#print (T)\n",
    "print('Tiempo: {}s'.format(t2-t1))\n",
    "\n",
    "# llamar al tercer algoritmo\n",
    "E = E2.copy()\n",
    "t1 = time.time()\n",
    "T = Kruskal3(V, E, cc)\n",
    "t2 = time.time()\n",
    "# mostrar arbol generador de peso mínimo\n",
    "print('Tercera versión del algoritmo de Kruskal:')\n",
    "#print (T)\n",
    "print('Tiempo: {}s'.format(t2-t1))\n",
    "\n"
   ]
  },
  {
   "cell_type": "markdown",
   "metadata": {},
   "source": [
    "Analicemos ahora la relación entre el tiempo de ejecución de la versión más rápida del algoritmo y el valor de $m \\log m$ para algunos grafos."
   ]
  },
  {
   "cell_type": "code",
   "execution_count": 13,
   "metadata": {},
   "outputs": [
    {
     "name": "stdout",
     "output_type": "stream",
     "text": [
      "*** n: 100, p: 0.2 ***\n",
      "1062 : 0.0008475780487060547\n",
      "1078 : 0.0001666545867919922\n",
      "1051 : 0.00015997886657714844\n",
      "1065 : 0.00016021728515625\n",
      "1051 : 0.00016117095947265625\n",
      "1029 : 0.00015592575073242188\n",
      "1096 : 0.000164031982421875\n",
      "1063 : 0.000156402587890625\n",
      "1074 : 0.0001571178436279297\n",
      "1067 : 0.00016379356384277344\n",
      "*** n: 100, p: 0.5 ***\n",
      "2574 : 0.00036597251892089844\n",
      "2435 : 0.0003705024719238281\n",
      "2595 : 0.0003769397735595703\n",
      "2516 : 0.0003714561462402344\n",
      "2524 : 0.0004277229309082031\n",
      "2614 : 0.0004074573516845703\n",
      "2603 : 0.0004000663757324219\n",
      "2456 : 0.0003876686096191406\n",
      "2581 : 0.0003921985626220703\n",
      "2533 : 0.0003848075866699219\n",
      "*** n: 100, p: 0.8 ***\n",
      "4028 : 0.000606536865234375\n",
      "4001 : 0.0005979537963867188\n",
      "3958 : 0.0006380081176757812\n",
      "4012 : 0.0005872249603271484\n",
      "3968 : 0.0005662441253662109\n",
      "3944 : 0.0005700588226318359\n",
      "4015 : 0.000583648681640625\n",
      "3949 : 0.0005846023559570312\n",
      "3978 : 0.0005612373352050781\n",
      "3976 : 0.0005924701690673828\n",
      "*** n: 500, p: 0.2 ***\n",
      "25380 : 0.004418373107910156\n",
      "25470 : 0.00494837760925293\n",
      "25328 : 0.004551410675048828\n",
      "25340 : 0.0050470829010009766\n",
      "25314 : 0.0044574737548828125\n",
      "25183 : 0.004729270935058594\n",
      "25234 : 0.004610538482666016\n",
      "25283 : 0.004556894302368164\n",
      "24967 : 0.004544734954833984\n",
      "25441 : 0.004576444625854492\n",
      "*** n: 500, p: 0.5 ***\n",
      "62503 : 0.012143611907958984\n",
      "62586 : 0.012501239776611328\n",
      "62584 : 0.012562990188598633\n",
      "62818 : 0.012351274490356445\n",
      "62481 : 0.012308835983276367\n",
      "62609 : 0.0118865966796875\n",
      "62626 : 0.011629104614257812\n",
      "62605 : 0.011710882186889648\n",
      "62754 : 0.011966228485107422\n",
      "62865 : 0.012183904647827148\n",
      "*** n: 500, p: 0.8 ***\n",
      "99827 : 0.02083134651184082\n",
      "99951 : 0.02239251136779785\n",
      "99967 : 0.020941734313964844\n",
      "100035 : 0.02043747901916504\n",
      "99721 : 0.021090269088745117\n",
      "100217 : 0.02122640609741211\n",
      "99796 : 0.0214385986328125\n",
      "99719 : 0.021542072296142578\n",
      "99709 : 0.020558595657348633\n",
      "99789 : 0.021193981170654297\n",
      "*** n: 1000, p: 0.2 ***\n",
      "100959 : 0.0217742919921875\n",
      "100247 : 0.021060466766357422\n",
      "101125 : 0.02100825309753418\n",
      "100541 : 0.021407127380371094\n",
      "100683 : 0.021732568740844727\n",
      "100932 : 0.021474838256835938\n",
      "100814 : 0.02068018913269043\n",
      "100706 : 0.022035837173461914\n",
      "100018 : 0.021597623825073242\n",
      "100526 : 0.02237105369567871\n",
      "*** n: 1000, p: 0.35 ***\n",
      "175563 : 0.04029250144958496\n",
      "176191 : 0.039114952087402344\n",
      "175154 : 0.037178993225097656\n",
      "175104 : 0.03779006004333496\n",
      "175001 : 0.04044842720031738\n",
      "175966 : 0.038683176040649414\n",
      "175547 : 0.03738856315612793\n",
      "175317 : 0.04033684730529785\n",
      "175961 : 0.03748464584350586\n",
      "175772 : 0.039571523666381836\n",
      "*** n: 1000, p: 0.5 ***\n",
      "249909 : 0.05736279487609863\n",
      "249911 : 0.0572199821472168\n",
      "250476 : 0.059694766998291016\n",
      "250212 : 0.05843663215637207\n",
      "249978 : 0.05850934982299805\n",
      "249999 : 0.05891299247741699\n",
      "250234 : 0.05968308448791504\n",
      "249861 : 0.05744314193725586\n",
      "249942 : 0.059107303619384766\n",
      "249568 : 0.0583186149597168\n",
      "*** n: 1000, p: 0.65 ***\n",
      "325413 : 0.07834696769714355\n",
      "324555 : 0.08177852630615234\n",
      "325690 : 0.08083486557006836\n",
      "324810 : 0.07944989204406738\n",
      "324921 : 0.07998037338256836\n",
      "325274 : 0.07952737808227539\n",
      "324858 : 0.08107590675354004\n",
      "324736 : 0.08868575096130371\n",
      "325124 : 0.07747817039489746\n",
      "325145 : 0.07760500907897949\n",
      "*** n: 1000, p: 0.8 ***\n",
      "400022 : 0.11283683776855469\n",
      "399602 : 0.10574460029602051\n",
      "399506 : 0.10410737991333008\n",
      "399664 : 0.11327886581420898\n",
      "399528 : 0.09766697883605957\n",
      "399324 : 0.09586858749389648\n",
      "399801 : 0.10238456726074219\n",
      "399809 : 0.09739375114440918\n",
      "399778 : 0.11077642440795898\n",
      "399725 : 0.1094655990600586\n",
      "[(7399.919572313601, 0.0008475780487060547), (7527.52604608352, 0.0001666545867919922), (7312.329736791676, 0.00015997886657714844), (7423.827533222854, 0.00016021728515625), (7312.329736791676, 0.00016117095947265625), (7137.496675173237, 0.00015592575073242188), (7671.367024388725, 0.000164031982421875), (7407.887952177491, 0.000156402587890625), (7495.602025423902, 0.0001571178436279297), (7439.770870138971, 0.00016379356384277344), (20214.17898311373, 0.00036597251892089844), (18987.404456483142, 0.0003705024719238281), (20400.181959581972, 0.0003769397735595703), (19701.350854435954, 0.0003714561462402344), (19772.006964520624, 0.0004277229309082031), (20568.616841397412, 0.0004074573516845703), (20471.085012700853, 0.0004000663757324219), (19172.246494439834, 0.0003876686096191406), (20276.161007473744, 0.0003921985626220703), (19851.525393454245, 0.0003848075866699219), (33436.52972246129, 0.000606536865234375), (33185.4927350378, 0.0005979537963867188), (32786.06975135122, 0.0006380081176757812), (33287.74513811629, 0.0005872249603271484), (32878.917314630104, 0.0005662441253662109), (32656.125622809643, 0.0005700588226318359), (33315.637394919155, 0.000583648681640625), (32702.52854442098, 0.0005846023559570312), (32971.79007954856, 0.0005612373352050781), (32953.21351347922, 0.0005924701690673828), (257396.77089339145, 0.004418373107910156), (258399.68478628513, 0.00494837760925293), (256817.45492955548, 0.004551410675048828), (256951.13376119582, 0.0050470829010009766), (256661.5034785545, 0.0044574737548828125), (255202.6192399551, 0.004729270935058594), (255770.5009936863, 0.004610538482666016), (256316.20996857694, 0.004556894302368164), (252798.62055942093, 0.004544734954833984), (258076.48886170253, 0.004576444625854492), (690218.7435702868, 0.012143611907958984), (691218.3651515333, 0.012501239776611328), (691194.2765897099, 0.012562990188598633), (694013.0714999706, 0.012351274490356445), (689953.8021061948, 0.012308835983276367), (691495.3882056683, 0.0118865966796875), (691700.1498068187, 0.011629104614257812), (691447.2096761813, 0.011710882186889648), (693242.0323092907, 0.011966228485107422), (694579.3449341, 0.012183904647827148), (1149127.960122953, 0.02083134651184082), (1150679.4251562008, 0.02239251136779785), (1150879.625402278, 0.020941734313964844), (1151730.5050125823, 0.02043747901916504), (1147801.8298597627, 0.021090269088745117), (1154008.0865978007, 0.02122640609741211), (1148740.1179238078, 0.0214385986328125), (1147776.8096166872, 0.021542072296142578), (1147651.709003018, 0.020558595657348633), (1148652.541985645, 0.021193981170654297), (1163297.0257934427, 0.0217742919921875), (1154383.5438810266, 0.021060466766357422), (1165375.8921722353, 0.02100825309753418), (1158063.4999466802, 0.021407127380371094), (1159841.2017424582, 0.021732568740844727), (1162958.9227202751, 0.021474838256835938), (1161481.371852698, 0.02068018913269043), (1160129.1582109774, 0.022035837173461914), (1151517.780775295, 0.021597623825073242), (1157875.7262524301, 0.02237105369567871), (2120055.4646399724, 0.04029250144958496), (2128268.159530643, 0.039114952087402344), (2114707.9583515693, 0.037178993225097656), (2114054.294445528, 0.03779006004333496), (2112707.791802599, 0.04044842720031738), (2125325.4553765566, 0.038683176040649414), (2119846.2533173687, 0.03738856315612793), (2116839.001773885, 0.04033684730529785), (2125260.0652172263, 0.03748464584350586), (2122788.4214187255, 0.039571523666381836), (3106082.007101193, 0.05736279487609863), (3106108.864813457, 0.0572199821472168), (3113696.8089854666, 0.059694766998291016), (3110151.1329074292, 0.05843663215637207), (3107008.6074227937, 0.05850934982299805), (3107290.619996899, 0.05891299247741699), (3110446.5952790054, 0.05968308448791504), (3105437.4268088983, 0.05744314193725586), (3106525.1614001994, 0.059107303619384766), (3101503.001277236, 0.0583186149597168), (4130418.5349596418, 0.07834696769714355), (4118671.201414064, 0.08177852630615234), (4134211.572388395, 0.08083486557006836), (4122162.305187998, 0.07944989204406738), (4123682.024672232, 0.07998037338256836), (4128515.258441852, 0.07952737808227539), (4122819.4765269104, 0.08107590675354004), (4121149.179938233, 0.08868575096130371), (4126461.4295559386, 0.07747817039489746), (4126748.9614345934, 0.07760500907897949), (5159993.71387721, 0.11283683776855469), (5154156.239015968, 0.10574460029602051), (5152822.021012614, 0.10410737991333008), (5155017.933734011, 0.11327886581420898), (5153127.777267734, 0.09766697883605957), (5150292.62937567, 0.09586858749389648), (5156922.035200117, 0.10238456726074219), (5157033.225057774, 0.09739375114440918), (5156602.365251055, 0.11077642440795898), (5155865.739536794, 0.1094655990600586)]\n"
     ]
    }
   ],
   "source": [
    "import random as r\n",
    "import time as t\n",
    "import math\n",
    "\n",
    "# Instancias de prueba: las tuplas indican los valores de (n, p) para cada grafo\n",
    "I = [(100, 0.2), (100, 0.5), (100, 0.8), \n",
    "     (500, 0.2), (500, 0.5), (500, 0.8), \n",
    "     (1000, 0.2), (1000, 0.35), (1000, 0.5), (1000, 0.65), (1000, 0.8)]\n",
    "\n",
    "# Número de experimentos por cada (n, p)\n",
    "K = 10\n",
    "\n",
    "# Lista donde se almacenarán los pares (tamaño, tiempo) de cada instancia\n",
    "estadist = []\n",
    "\n",
    "# Lazo principal:\n",
    "for (n, p) in I:\n",
    "    print ('*** n: {}, p: {} ***'.format(n,p))\n",
    "    for k in range(K):\n",
    "        # Contruir grafo aleatorio conexo\n",
    "        V = range(1, n+1)\n",
    "        E=[(i, i+1) for i in range(1,n)]\n",
    "        for i in V:\n",
    "            for j in range(i+2, n+1):\n",
    "                if r.random() < p:\n",
    "                    E.append((i,j))\n",
    "        # número de aristas\n",
    "        m= len(E)\n",
    "        cc = {(i,j) : r.randint(-m,m) for (i,j) in E}\n",
    "        # correr el algoritmo Kruskal3 y registrar el tiempo\n",
    "        t1 = t.time()\n",
    "        T = Kruskal3(V, E, cc)\n",
    "        t2 = t.time()\n",
    "        # registrar el par (m log m, t2 - t1)\n",
    "        estadist.append((m * math.log(m), t2 - t1))\n",
    "        print('{} : {}'.format(m, t2 - t1))\n",
    "print(estadist)\n"
   ]
  },
  {
   "cell_type": "code",
   "execution_count": 14,
   "metadata": {},
   "outputs": [
    {
     "data": {
      "image/png": "[encoded data removed]",
      "text/plain": [
       "<Figure size 640x480 with 1 Axes>"
      ]
     },
     "metadata": {},
     "output_type": "display_data"
    }
   ],
   "source": [
    "import matplotlib.pyplot as plt\n",
    "x = [i for (i, j) in estadist]\n",
    "y = [j for (i, j) in estadist]\n",
    "plt.scatter(x, y)\n",
    "plt.show()\n"
   ]
  },
  {
   "cell_type": "code",
   "execution_count": null,
   "metadata": {},
   "outputs": [],
   "source": []
  }
 ],
 "metadata": {
  "kernelspec": {
   "display_name": "Python 3 (ipykernel)",
   "language": "python",
   "name": "python3"
  },
  "language_info": {
   "codemirror_mode": {
    "name": "ipython",
    "version": 3
   },
   "file_extension": ".py",
   "mimetype": "text/x-python",
   "name": "python",
   "nbconvert_exporter": "python",
   "pygments_lexer": "ipython3",
   "version": "3.12.10"
  }
 },
 "nbformat": 4,
 "nbformat_minor": 4
}
